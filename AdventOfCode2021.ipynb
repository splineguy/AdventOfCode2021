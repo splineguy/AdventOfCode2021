{
 "cells": [
  {
   "cell_type": "markdown",
   "metadata": {},
   "source": [
    "# Advent of Code 2021"
   ]
  },
  {
   "cell_type": "markdown",
   "metadata": {},
   "source": [
    "## Day 1"
   ]
  },
  {
   "cell_type": "code",
   "execution_count": 2,
   "metadata": {},
   "outputs": [],
   "source": [
    "import numpy as np\n",
    "import matplotlib.pyplot as plt\n",
    "\n",
    "with open('input.txt') as f:\n",
    "    lines = f.readlines()"
   ]
  },
  {
   "cell_type": "code",
   "execution_count": 14,
   "metadata": {},
   "outputs": [],
   "source": [
    "nums = [int(i) for i in lines]"
   ]
  },
  {
   "cell_type": "code",
   "execution_count": 15,
   "metadata": {},
   "outputs": [],
   "source": [
    "def count_increases(depths):\n",
    "    count = 0\n",
    "    for i in range(len(depths)-1):\n",
    "        if depths[i] < depths[i+1]:\n",
    "            count+=1\n",
    "    return count"
   ]
  },
  {
   "cell_type": "code",
   "execution_count": 16,
   "metadata": {},
   "outputs": [
    {
     "name": "stdout",
     "output_type": "stream",
     "text": [
      "1616\n"
     ]
    }
   ],
   "source": [
    "print(count_increases(nums))"
   ]
  },
  {
   "cell_type": "code",
   "execution_count": 17,
   "metadata": {},
   "outputs": [],
   "source": [
    "nums = np.array(nums)"
   ]
  },
  {
   "cell_type": "code",
   "execution_count": 18,
   "metadata": {},
   "outputs": [],
   "source": [
    "rolling3 = nums[0:-2]+nums[1:-1]+nums[2:]"
   ]
  },
  {
   "cell_type": "code",
   "execution_count": 19,
   "metadata": {},
   "outputs": [
    {
     "name": "stdout",
     "output_type": "stream",
     "text": [
      "1645\n"
     ]
    }
   ],
   "source": [
    "print(count_increases(rolling3))"
   ]
  },
  {
   "cell_type": "markdown",
   "metadata": {},
   "source": [
    "## Day 2"
   ]
  },
  {
   "cell_type": "code",
   "execution_count": 20,
   "metadata": {},
   "outputs": [],
   "source": [
    "with open('input2.txt') as f:\n",
    "    lines2 = f.readlines()"
   ]
  },
  {
   "cell_type": "code",
   "execution_count": 22,
   "metadata": {},
   "outputs": [
    {
     "name": "stdout",
     "output_type": "stream",
     "text": [
      "2073315\n"
     ]
    }
   ],
   "source": [
    "horizontal=0\n",
    "depth=0\n",
    "for line in lines2:\n",
    "    code = line.split()\n",
    "    if code[0]=='forward':\n",
    "        horizontal+= int(code[1])\n",
    "    elif code[0]=='up':\n",
    "        depth-=int(code[1])\n",
    "    elif code[0]=='down':\n",
    "        depth+=int(code[1])\n",
    "print(horizontal*depth)"
   ]
  },
  {
   "cell_type": "code",
   "execution_count": 23,
   "metadata": {},
   "outputs": [
    {
     "name": "stdout",
     "output_type": "stream",
     "text": [
      "1840311528\n"
     ]
    }
   ],
   "source": [
    "horizontal=0\n",
    "depth=0\n",
    "aim=0\n",
    "for line in lines2:\n",
    "    code = line.split()\n",
    "    if code[0]=='forward':\n",
    "        horizontal+= int(code[1])\n",
    "        depth+=aim*int(code[1])\n",
    "    elif code[0]=='up':\n",
    "        aim-=int(code[1])\n",
    "    elif code[0]=='down':\n",
    "        aim+=int(code[1])\n",
    "print(horizontal*depth)"
   ]
  },
  {
   "cell_type": "markdown",
   "metadata": {},
   "source": [
    "## Day 3"
   ]
  },
  {
   "cell_type": "code",
   "execution_count": 67,
   "metadata": {},
   "outputs": [],
   "source": [
    "with open('input3.txt') as f:\n",
    "    lines3 = f.readlines()"
   ]
  },
  {
   "cell_type": "code",
   "execution_count": 84,
   "metadata": {},
   "outputs": [],
   "source": [
    "def bit_select(lines,i,which='most'):\n",
    "    # Returns most common character in ith place of lines list\n",
    "    chars = {}\n",
    "    for line in lines:\n",
    "        if i >= len(line):\n",
    "            return None\n",
    "        elif line[i] in chars:\n",
    "            chars[line[i]] += 1\n",
    "        else:\n",
    "            chars[line[i]] = 1\n",
    "    if which=='most':\n",
    "        return max(chars, key=chars.get)\n",
    "    elif which=='least':\n",
    "        return min(chars, key=chars.get)"
   ]
  },
  {
   "cell_type": "code",
   "execution_count": 152,
   "metadata": {},
   "outputs": [],
   "source": [
    "def bit_criteria(lines,i,which='o2'):\n",
    "    # Returns most common character in ith place of lines list\n",
    "    chars = {'0':0, '1':0}\n",
    "    for line in lines:\n",
    "        chars[line[i]] += 1\n",
    "    if which=='o2':\n",
    "        if chars['0'] == chars['1']:\n",
    "            return '1'\n",
    "        else:\n",
    "            return max(chars, key=chars.get)\n",
    "    elif which=='co2': \n",
    "        if chars['0'] == chars['1']:\n",
    "            return '0'\n",
    "        else:\n",
    "            return min(chars, key=chars.get)"
   ]
  },
  {
   "cell_type": "code",
   "execution_count": 135,
   "metadata": {},
   "outputs": [
    {
     "name": "stdout",
     "output_type": "stream",
     "text": [
      "gamma = 100100101010 = 2346\n",
      "epsilon = 011011010101 = 1749\n",
      "4103154\n"
     ]
    }
   ],
   "source": [
    "gamma=[]\n",
    "epsilon=[]\n",
    "for i in range(len(lines3[0])-1):\n",
    "    gamma.append(bit_select(lines3,i))\n",
    "    epsilon.append(bit_select(lines3,i,'least'))\n",
    "gamma = ''.join(gamma)\n",
    "epsilon = ''.join(epsilon)\n",
    "print('gamma =',gamma,'=',int(gamma,2))\n",
    "print('epsilon =',epsilon,'=',int(epsilon,2))\n",
    "gamma = int(gamma,2)\n",
    "epsilon = int(epsilon,2)\n",
    "print(gamma*epsilon)"
   ]
  },
  {
   "cell_type": "code",
   "execution_count": 187,
   "metadata": {},
   "outputs": [],
   "source": [
    "with open('input4.txt') as f:\n",
    "    lines4 = f.readlines()"
   ]
  },
  {
   "cell_type": "code",
   "execution_count": 188,
   "metadata": {},
   "outputs": [
    {
     "name": "stdout",
     "output_type": "stream",
     "text": [
      "1\n",
      "0\n",
      "1\n",
      "1\n",
      "0\n",
      "0\n",
      "0\n",
      "1\n",
      "1\n",
      "010011100001\n",
      "\n"
     ]
    }
   ],
   "source": [
    "i=0\n",
    "while len(lines4)>1:\n",
    "    b = bit_criteria(lines4,i,'o2')\n",
    "    print(b)\n",
    "    for line in lines4[:]:\n",
    "        if line[i] == b:\n",
    "            if len(lines4)==1:\n",
    "                break\n",
    "            else:\n",
    "                lines4.remove(line)\n",
    "    i+=1\n",
    "print(lines4[0])\n",
    "o2rating = int(lines4[0],2)"
   ]
  },
  {
   "cell_type": "code",
   "execution_count": 189,
   "metadata": {},
   "outputs": [],
   "source": [
    "with open('input4.txt') as f:\n",
    "    lines4 = f.readlines()"
   ]
  },
  {
   "cell_type": "code",
   "execution_count": 190,
   "metadata": {},
   "outputs": [
    {
     "name": "stdout",
     "output_type": "stream",
     "text": [
      "0\n",
      "0\n",
      "1\n",
      "0\n",
      "1\n",
      "0\n",
      "1\n",
      "1\n",
      "1\n",
      "0\n",
      "0\n",
      "0\n",
      "110101000111\n",
      "\n"
     ]
    }
   ],
   "source": [
    "i=0\n",
    "while len(lines4)>1:\n",
    "    b = bit_criteria(lines4,i,'co2')\n",
    "    print(b)\n",
    "    for line in lines4[:]:\n",
    "        if line[i] == b:\n",
    "            if len(lines4)==1:\n",
    "                break\n",
    "            else:\n",
    "                lines4.remove(line)\n",
    "    i+=1\n",
    "print(lines4[0])\n",
    "co2rating = int(lines4[0],2)"
   ]
  },
  {
   "cell_type": "code",
   "execution_count": 191,
   "metadata": {},
   "outputs": [
    {
     "name": "stdout",
     "output_type": "stream",
     "text": [
      "4245351\n"
     ]
    }
   ],
   "source": [
    "print(o2rating*co2rating)"
   ]
  },
  {
   "cell_type": "markdown",
   "metadata": {},
   "source": [
    "## Day 4"
   ]
  },
  {
   "cell_type": "code",
   "execution_count": 12,
   "metadata": {},
   "outputs": [],
   "source": [
    "with open('input5.txt') as f:\n",
    "    lines5= f.readlines()"
   ]
  },
  {
   "cell_type": "code",
   "execution_count": 13,
   "metadata": {},
   "outputs": [],
   "source": [
    "nums = lines5[0][:-1].split(',')\n",
    "nums = [int(i) for i in nums]\n",
    "\n",
    "boards = []"
   ]
  },
  {
   "cell_type": "code",
   "execution_count": 15,
   "metadata": {},
   "outputs": [],
   "source": [
    "current_board = []\n",
    "for line in lines5[2:]:\n",
    "    if len(line)<2:\n",
    "        boards.append(current_board)\n",
    "        current_board = []\n",
    "    else:\n",
    "        line = [int(i) for i in line[:-1].split()]\n",
    "        current_board.extend(line)"
   ]
  },
  {
   "cell_type": "code",
   "execution_count": 16,
   "metadata": {},
   "outputs": [],
   "source": [
    "def mark_board(board, nums):\n",
    "    # input: 25 number array repr bingo board\n",
    "    # output: 25 binary array repr marked board (0=unmarkd, 1=marked)\n",
    "    result = [0 for i in board]\n",
    "    for n in nums:\n",
    "        if n in board:\n",
    "            result[board.index(n)] = 1\n",
    "    return result"
   ]
  },
  {
   "cell_type": "code",
   "execution_count": 17,
   "metadata": {},
   "outputs": [],
   "source": [
    "def is_row_winner(marked_board, i):\n",
    "    result = marked_board[5*i]==1\n",
    "    for j in range(1,5):\n",
    "        result = result and marked_board[5*i+j]==1\n",
    "    return result\n",
    "\n",
    "def is_col_winner(marked_board, j):\n",
    "    result = marked_board[j]==1\n",
    "    for i in range(1,5):\n",
    "        result = result and marked_board[5*i+j]==1\n",
    "    return result \n",
    "\n",
    "def is_winning(board, nums):\n",
    "    # input: 25 number array repr bingo board,\n",
    "    #        nums is list of numbers called so far\n",
    "    # output: True/False if board has won\n",
    "    mark = mark_board(board, nums)\n",
    "    for i in range(5):\n",
    "        if is_row_winner(mark, i):\n",
    "            return True\n",
    "        if is_col_winner(mark, i):\n",
    "            return True\n",
    "    return False\n",
    "\n",
    "def score_board(board,nums):\n",
    "    mark = mark_board(board,nums)\n",
    "    return sum([int(x) for i,x in enumerate(board) if mark[i]==0])\n",
    "\n",
    "def find_number_of_calls_needed(board,num):\n",
    "    calls = []\n",
    "    i = 0\n",
    "    while not is_winning(board,calls) and i<len(num):\n",
    "        i+=1\n",
    "        calls = num[:i]\n",
    "    return i"
   ]
  },
  {
   "cell_type": "code",
   "execution_count": 46,
   "metadata": {},
   "outputs": [
    {
     "name": "stdout",
     "output_type": "stream",
     "text": [
      "2745\n"
     ]
    }
   ],
   "source": [
    "num_calls = []\n",
    "scores = []\n",
    "for board in boards:\n",
    "    num_calls.append(find_number_of_calls_needed(board,nums))\n",
    "    scores.append(score_board(board,nums[:num_calls[-1]]))\n",
    "first_board = num_calls.index(min(num_calls))\n",
    "score = scores[first_board]\n",
    "winning_value = nums[num_calls[first_board]-1]\n",
    "print(score*winning_value)"
   ]
  },
  {
   "cell_type": "code",
   "execution_count": 47,
   "metadata": {},
   "outputs": [
    {
     "name": "stdout",
     "output_type": "stream",
     "text": [
      "6594\n"
     ]
    }
   ],
   "source": [
    "last_board = num_calls.index(max(num_calls))\n",
    "score_last = scores[last_board]\n",
    "losing_value = nums[num_calls[last_board]-1]\n",
    "print(score_last * losing_value)"
   ]
  },
  {
   "cell_type": "markdown",
   "metadata": {},
   "source": [
    "## Day 5"
   ]
  },
  {
   "cell_type": "code",
   "execution_count": 79,
   "metadata": {},
   "outputs": [],
   "source": [
    "with open('input6.txt') as f:\n",
    "    lines6= f.readlines()"
   ]
  },
  {
   "cell_type": "code",
   "execution_count": 80,
   "metadata": {},
   "outputs": [],
   "source": [
    "# lines are lists with four ints: x1, y1, x2, y2\n",
    "class Line():\n",
    "    def __init__(self,x1,y1,x2,y2):\n",
    "        self.x1=x1\n",
    "        self.y1=y1\n",
    "        self.x2=x2\n",
    "        self.y2=y2\n",
    "    \n",
    "    def isHorizontal(self):\n",
    "        return self.y1 == self.y2 and self.x1 != self.x2\n",
    "    \n",
    "    def isVertical(self):\n",
    "        return self.x1 == self.x2 and self.y1 != self.y2\n",
    "\n",
    "def markGrid(grid, line, diag = False):\n",
    "    x_range=[]\n",
    "    y_range=[]\n",
    "    if line.isHorizontal():\n",
    "        if line.x1 < line.x2:\n",
    "            x_range = range(line.x1,line.x2+1)\n",
    "        else:\n",
    "            x_range = range(line.x1,line.x2-1,-1)\n",
    "        y_range = [line.y1 for i in x_range]\n",
    "    elif line.isVertical():\n",
    "        if line.y1 < line.y2:\n",
    "            y_range = range(line.y1,line.y2+1)\n",
    "        else:\n",
    "            y_range = range(line.y1,line.y2-1,-1)\n",
    "        x_range = [line.x1 for i in y_range]\n",
    "    elif diag:\n",
    "        if line.x1 < line.x2:\n",
    "            x_range = range(line.x1,line.x2+1)\n",
    "        else:\n",
    "            x_range = range(line.x1,line.x2-1,-1)\n",
    "        if line.y1 < line.y2:\n",
    "            y_range = range(line.y1,line.y2+1)\n",
    "        else:\n",
    "            y_range = range(line.y1,line.y2-1,-1)\n",
    "    for i, j in zip(x_range, y_range):\n",
    "        key = '{:d},{:d}'.format(i,j)\n",
    "        if key in grid:\n",
    "            grid[key] += 1\n",
    "        else:\n",
    "            grid[key] = 1    "
   ]
  },
  {
   "cell_type": "code",
   "execution_count": 81,
   "metadata": {
    "tags": []
   },
   "outputs": [],
   "source": [
    "grid = {}\n",
    "for line in lines6[:]:\n",
    "    line = line[:-1]\n",
    "    temp = line.split()\n",
    "    x1,y1 = [int(i) for i in temp[0].split(',')]\n",
    "    x2,y2 = [int(i) for i in temp[2].split(',')]\n",
    "    line = Line(x1,y1,x2,y2)\n",
    "    markGrid(grid, line)"
   ]
  },
  {
   "cell_type": "code",
   "execution_count": 82,
   "metadata": {},
   "outputs": [
    {
     "data": {
      "text/plain": [
       "6841"
      ]
     },
     "execution_count": 82,
     "metadata": {},
     "output_type": "execute_result"
    }
   ],
   "source": [
    "sum(value>1 for value in grid.values())"
   ]
  },
  {
   "cell_type": "code",
   "execution_count": 83,
   "metadata": {
    "tags": []
   },
   "outputs": [
    {
     "data": {
      "text/plain": [
       "19258"
      ]
     },
     "execution_count": 83,
     "metadata": {},
     "output_type": "execute_result"
    }
   ],
   "source": [
    "grid = {}\n",
    "for line in lines6[:]:\n",
    "    line = line[:-1]\n",
    "    temp = line.split()\n",
    "    x1,y1 = [int(i) for i in temp[0].split(',')]\n",
    "    x2,y2 = [int(i) for i in temp[2].split(',')]\n",
    "    line = Line(x1,y1,x2,y2)\n",
    "    markGrid(grid,line,diag=True)\n",
    "sum(value>1 for value in grid.values())"
   ]
  },
  {
   "cell_type": "code",
   "execution_count": 78,
   "metadata": {},
   "outputs": [],
   "source": [
    "file = open('temp.txt','w')\n",
    "for i in range(10):\n",
    "    for j in range(10):\n",
    "        key = '{:d},{:d}'.format(j,i)\n",
    "        if key in grid:\n",
    "            file.write('{:d}'.format(grid[key]))\n",
    "        else:\n",
    "            file.write('.')\n",
    "    file.write('\\n')\n",
    "file.close()"
   ]
  },
  {
   "cell_type": "markdown",
   "metadata": {},
   "source": [
    "## Day 6"
   ]
  },
  {
   "cell_type": "code",
   "execution_count": 160,
   "metadata": {},
   "outputs": [],
   "source": [
    "with open('input7.txt') as f:\n",
    "    input7 = f.readlines()   "
   ]
  },
  {
   "cell_type": "code",
   "execution_count": 161,
   "metadata": {},
   "outputs": [
    {
     "name": "stdout",
     "output_type": "stream",
     "text": [
      "[3, 5, 2, 5, 4, 3, 2, 2, 3, 5, 2, 3, 2, 2, 2, 2, 3, 5, 3, 5, 5, 2, 2, 3, 4, 2, 3, 5, 5, 3, 3, 5, 2, 4, 5, 4, 3, 5, 3, 2, 5, 4, 1, 1, 1, 5, 1, 4, 1, 4, 3, 5, 2, 3, 2, 2, 2, 5, 2, 1, 2, 2, 2, 2, 3, 4, 5, 2, 5, 4, 1, 3, 1, 5, 5, 5, 3, 5, 3, 1, 5, 4, 2, 5, 3, 3, 5, 5, 5, 3, 2, 2, 1, 1, 3, 2, 1, 2, 2, 4, 3, 4, 1, 3, 4, 1, 2, 2, 4, 1, 3, 1, 4, 3, 3, 1, 2, 3, 1, 3, 4, 1, 1, 2, 5, 1, 2, 1, 2, 4, 1, 3, 2, 1, 1, 2, 4, 3, 5, 1, 3, 2, 1, 3, 2, 3, 4, 5, 5, 4, 1, 3, 4, 1, 2, 3, 5, 2, 3, 5, 2, 1, 1, 5, 5, 4, 4, 4, 5, 3, 3, 2, 5, 4, 4, 1, 5, 1, 5, 5, 5, 2, 2, 1, 2, 4, 5, 1, 2, 1, 4, 5, 4, 2, 4, 3, 2, 5, 2, 2, 1, 4, 3, 5, 4, 2, 1, 1, 5, 1, 4, 5, 1, 2, 5, 5, 1, 4, 1, 1, 4, 5, 2, 5, 3, 1, 4, 5, 2, 1, 3, 1, 3, 3, 5, 5, 1, 4, 1, 3, 2, 2, 3, 5, 4, 3, 2, 5, 1, 1, 1, 2, 2, 5, 3, 4, 2, 1, 3, 2, 5, 3, 2, 2, 3, 5, 2, 1, 4, 5, 4, 4, 5, 5, 3, 3, 5, 4, 5, 5, 4, 3, 5, 3, 5, 3, 1, 3, 2, 2, 1, 4, 4, 5, 2, 2, 4, 2, 1, 4]\n"
     ]
    }
   ],
   "source": [
    "lanternfish = [int(i) for i in input7[0][:-1].split(',')]\n",
    "print(lanternfish)"
   ]
  },
  {
   "cell_type": "code",
   "execution_count": 157,
   "metadata": {
    "tags": []
   },
   "outputs": [
    {
     "name": "stdout",
     "output_type": "stream",
     "text": [
      "day= 1 , lanternfish= 300\n",
      "day= 2 , lanternfish= 357\n",
      "day= 3 , lanternfish= 427\n",
      "day= 4 , lanternfish= 485\n",
      "day= 5 , lanternfish= 533\n",
      "day= 6 , lanternfish= 600\n",
      "day= 7 , lanternfish= 600\n",
      "day= 8 , lanternfish= 600\n",
      "day= 9 , lanternfish= 657\n",
      "day= 10 , lanternfish= 727\n",
      "day= 11 , lanternfish= 842\n",
      "day= 12 , lanternfish= 960\n",
      "day= 13 , lanternfish= 1085\n",
      "day= 14 , lanternfish= 1133\n",
      "day= 15 , lanternfish= 1200\n",
      "day= 16 , lanternfish= 1257\n",
      "day= 17 , lanternfish= 1327\n",
      "day= 18 , lanternfish= 1499\n",
      "day= 19 , lanternfish= 1687\n",
      "day= 20 , lanternfish= 1927\n",
      "day= 21 , lanternfish= 2093\n",
      "day= 22 , lanternfish= 2285\n",
      "day= 23 , lanternfish= 2390\n",
      "day= 24 , lanternfish= 2527\n",
      "day= 25 , lanternfish= 2756\n",
      "day= 26 , lanternfish= 3014\n",
      "day= 27 , lanternfish= 3426\n",
      "day= 28 , lanternfish= 3780\n",
      "day= 29 , lanternfish= 4212\n",
      "day= 30 , lanternfish= 4483\n",
      "day= 31 , lanternfish= 4812\n",
      "day= 32 , lanternfish= 5146\n",
      "day= 33 , lanternfish= 5541\n",
      "day= 34 , lanternfish= 6182\n",
      "day= 35 , lanternfish= 6794\n",
      "day= 36 , lanternfish= 7638\n",
      "day= 37 , lanternfish= 8263\n",
      "day= 38 , lanternfish= 9024\n",
      "day= 39 , lanternfish= 9629\n",
      "day= 40 , lanternfish= 10353\n",
      "day= 41 , lanternfish= 11328\n",
      "day= 42 , lanternfish= 12335\n",
      "day= 43 , lanternfish= 13820\n",
      "day= 44 , lanternfish= 15057\n",
      "day= 45 , lanternfish= 16662\n",
      "day= 46 , lanternfish= 17892\n",
      "day= 47 , lanternfish= 19377\n",
      "day= 48 , lanternfish= 20957\n",
      "day= 49 , lanternfish= 22688\n",
      "day= 50 , lanternfish= 25148\n",
      "day= 51 , lanternfish= 27392\n",
      "day= 52 , lanternfish= 30482\n",
      "day= 53 , lanternfish= 32949\n",
      "day= 54 , lanternfish= 36039\n",
      "day= 55 , lanternfish= 38849\n",
      "day= 56 , lanternfish= 42065\n",
      "day= 57 , lanternfish= 46105\n",
      "day= 58 , lanternfish= 50080\n",
      "day= 59 , lanternfish= 55630\n",
      "day= 60 , lanternfish= 60341\n",
      "day= 61 , lanternfish= 66521\n",
      "day= 62 , lanternfish= 71798\n",
      "day= 63 , lanternfish= 78104\n",
      "day= 64 , lanternfish= 84954\n",
      "day= 65 , lanternfish= 92145\n",
      "day= 66 , lanternfish= 101735\n",
      "day= 67 , lanternfish= 110421\n",
      "day= 68 , lanternfish= 122151\n",
      "day= 69 , lanternfish= 132139\n",
      "day= 70 , lanternfish= 144625\n",
      "day= 71 , lanternfish= 156752\n",
      "day= 72 , lanternfish= 170249\n",
      "day= 73 , lanternfish= 186689\n",
      "day= 74 , lanternfish= 202566\n",
      "day= 75 , lanternfish= 223886\n",
      "day= 76 , lanternfish= 242560\n",
      "day= 77 , lanternfish= 266776\n",
      "day= 78 , lanternfish= 288891\n",
      "day= 79 , lanternfish= 314874\n",
      "day= 80 , lanternfish= 343441\n",
      "day= 81 , lanternfish= 372815\n",
      "day= 82 , lanternfish= 410575\n",
      "day= 83 , lanternfish= 445126\n",
      "day= 84 , lanternfish= 490662\n",
      "day= 85 , lanternfish= 531451\n",
      "day= 86 , lanternfish= 581650\n",
      "day= 87 , lanternfish= 632332\n",
      "day= 88 , lanternfish= 687689\n",
      "day= 89 , lanternfish= 754016\n",
      "day= 90 , lanternfish= 817941\n",
      "day= 91 , lanternfish= 901237\n",
      "day= 92 , lanternfish= 976577\n",
      "day= 93 , lanternfish= 1072312\n",
      "day= 94 , lanternfish= 1163783\n",
      "day= 95 , lanternfish= 1269339\n",
      "day= 96 , lanternfish= 1386348\n",
      "day= 97 , lanternfish= 1505630\n",
      "day= 98 , lanternfish= 1655253\n",
      "day= 99 , lanternfish= 1794518\n",
      "day= 100 , lanternfish= 1973549\n",
      "day= 101 , lanternfish= 2140360\n",
      "day= 102 , lanternfish= 2341651\n",
      "day= 103 , lanternfish= 2550131\n",
      "day= 104 , lanternfish= 2774969\n",
      "day= 105 , lanternfish= 3041601\n",
      "day= 106 , lanternfish= 3300148\n",
      "day= 107 , lanternfish= 3628802\n",
      "day= 108 , lanternfish= 3934878\n",
      "day= 109 , lanternfish= 4315200\n"
     ]
    },
    {
     "ename": "KeyboardInterrupt",
     "evalue": "",
     "output_type": "error",
     "traceback": [
      "\u001b[1;31m---------------------------------------------------------------------------\u001b[0m",
      "\u001b[1;31mKeyboardInterrupt\u001b[0m                         Traceback (most recent call last)",
      "\u001b[1;32m<ipython-input-157-9354fee5af08>\u001b[0m in \u001b[0;36m<module>\u001b[1;34m\u001b[0m\n\u001b[0;32m      6\u001b[0m             \u001b[0mlanternfish\u001b[0m\u001b[1;33m.\u001b[0m\u001b[0mappend\u001b[0m\u001b[1;33m(\u001b[0m\u001b[1;36m8\u001b[0m\u001b[1;33m)\u001b[0m\u001b[1;33m\u001b[0m\u001b[1;33m\u001b[0m\u001b[0m\n\u001b[0;32m      7\u001b[0m         \u001b[1;32melse\u001b[0m\u001b[1;33m:\u001b[0m\u001b[1;33m\u001b[0m\u001b[1;33m\u001b[0m\u001b[0m\n\u001b[1;32m----> 8\u001b[1;33m             \u001b[0mlanternfish\u001b[0m\u001b[1;33m[\u001b[0m\u001b[0mi\u001b[0m\u001b[1;33m]\u001b[0m \u001b[1;33m=\u001b[0m \u001b[0mtimer\u001b[0m \u001b[1;33m-\u001b[0m \u001b[1;36m1\u001b[0m\u001b[1;33m\u001b[0m\u001b[1;33m\u001b[0m\u001b[0m\n\u001b[0m\u001b[0;32m      9\u001b[0m     \u001b[0mprint\u001b[0m\u001b[1;33m(\u001b[0m\u001b[1;34m'day='\u001b[0m\u001b[1;33m,\u001b[0m\u001b[0mday\u001b[0m\u001b[1;33m+\u001b[0m\u001b[1;36m1\u001b[0m\u001b[1;33m,\u001b[0m\u001b[1;34m', lanternfish='\u001b[0m\u001b[1;33m,\u001b[0m\u001b[0mlen\u001b[0m\u001b[1;33m(\u001b[0m\u001b[0mlanternfish\u001b[0m\u001b[1;33m)\u001b[0m\u001b[1;33m)\u001b[0m\u001b[1;33m\u001b[0m\u001b[1;33m\u001b[0m\u001b[0m\n",
      "\u001b[1;31mKeyboardInterrupt\u001b[0m: "
     ]
    }
   ],
   "source": [
    "days = 256\n",
    "for day in range(days):\n",
    "    for i,timer in enumerate(lanternfish[:]):\n",
    "        if timer==0:\n",
    "            lanternfish[i] = 6\n",
    "            lanternfish.append(8)\n",
    "        else:\n",
    "            lanternfish[i] = timer - 1\n",
    "    print('day=',day+1,', lanternfish=',len(lanternfish))"
   ]
  },
  {
   "cell_type": "code",
   "execution_count": 162,
   "metadata": {},
   "outputs": [
    {
     "name": "stdout",
     "output_type": "stream",
     "text": [
      "[ 0. 57. 70. 58. 48. 67.  0.  0.  0.]\n",
      "1569108373832.0\n"
     ]
    }
   ],
   "source": [
    "import numpy as np\n",
    "T = np.array([[0, 1, 0, 0, 0, 0, 0, 0, 0],\n",
    "              [0, 0, 1, 0, 0, 0, 0, 0, 0],\n",
    "              [0, 0, 0, 1, 0, 0, 0, 0, 0],\n",
    "              [0, 0, 0, 0, 1, 0, 0, 0, 0],\n",
    "              [0, 0, 0, 0, 0, 1, 0, 0, 0],\n",
    "              [0, 0, 0, 0, 0, 0, 1, 0, 0],\n",
    "              [1, 0, 0, 0, 0, 0, 0, 1, 0],\n",
    "              [0, 0, 0, 0, 0, 0, 0, 0, 1],\n",
    "              [1, 0, 0, 0, 0, 0, 0, 0, 0]],dtype=np.float64)\n",
    "S_0 = np.zeros(9,dtype=np.float64)\n",
    "for i in range(8):\n",
    "    S_0[i] = lanternfish.count(i)\n",
    "print(S_0)\n",
    "#S_0 = [0, 1, 1, 2, 1, 0, 0, 0, 0]\n",
    "S = S_0\n",
    "for i in range(256):\n",
    "    S = np.dot(T, S)\n",
    "print(np.sum(S))"
   ]
  },
  {
   "cell_type": "code",
   "execution_count": null,
   "metadata": {},
   "outputs": [],
   "source": []
  }
 ],
 "metadata": {
  "kernelspec": {
   "display_name": "Python (base)",
   "language": "python",
   "name": "base"
  },
  "language_info": {
   "codemirror_mode": {
    "name": "ipython",
    "version": 3
   },
   "file_extension": ".py",
   "mimetype": "text/x-python",
   "name": "python",
   "nbconvert_exporter": "python",
   "pygments_lexer": "ipython3",
   "version": "3.8.8"
  }
 },
 "nbformat": 4,
 "nbformat_minor": 4
}
