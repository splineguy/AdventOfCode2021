{
 "cells": [
  {
   "cell_type": "markdown",
   "metadata": {},
   "source": [
    "# Advent of Code 2021"
   ]
  },
  {
   "cell_type": "markdown",
   "metadata": {},
   "source": [
    "## Day 1"
   ]
  },
  {
   "cell_type": "code",
   "execution_count": 1,
   "metadata": {},
   "outputs": [],
   "source": [
    "import numpy as np\n",
    "import matplotlib.pyplot as plt\n",
    "\n",
    "with open('input/input.txt') as f:\n",
    "    lines = f.readlines()"
   ]
  },
  {
   "cell_type": "code",
   "execution_count": 2,
   "metadata": {},
   "outputs": [],
   "source": [
    "nums = [int(i) for i in lines]"
   ]
  },
  {
   "cell_type": "code",
   "execution_count": 3,
   "metadata": {},
   "outputs": [],
   "source": [
    "def count_increases(depths):\n",
    "    count = 0\n",
    "    for i in range(len(depths)-1):\n",
    "        if depths[i] < depths[i+1]:\n",
    "            count+=1\n",
    "    return count"
   ]
  },
  {
   "cell_type": "code",
   "execution_count": 4,
   "metadata": {},
   "outputs": [
    {
     "name": "stdout",
     "output_type": "stream",
     "text": [
      "1616\n"
     ]
    }
   ],
   "source": [
    "print(count_increases(nums))"
   ]
  },
  {
   "cell_type": "code",
   "execution_count": 5,
   "metadata": {},
   "outputs": [],
   "source": [
    "nums = np.array(nums)"
   ]
  },
  {
   "cell_type": "code",
   "execution_count": 6,
   "metadata": {},
   "outputs": [],
   "source": [
    "rolling3 = nums[0:-2]+nums[1:-1]+nums[2:]"
   ]
  },
  {
   "cell_type": "code",
   "execution_count": 7,
   "metadata": {},
   "outputs": [
    {
     "name": "stdout",
     "output_type": "stream",
     "text": [
      "1645\n"
     ]
    }
   ],
   "source": [
    "print(count_increases(rolling3))"
   ]
  },
  {
   "cell_type": "markdown",
   "metadata": {},
   "source": [
    "## Day 2"
   ]
  },
  {
   "cell_type": "code",
   "execution_count": 8,
   "metadata": {},
   "outputs": [],
   "source": [
    "with open('input/input2.txt') as f:\n",
    "    lines2 = f.readlines()"
   ]
  },
  {
   "cell_type": "code",
   "execution_count": 9,
   "metadata": {},
   "outputs": [
    {
     "name": "stdout",
     "output_type": "stream",
     "text": [
      "2073315\n"
     ]
    }
   ],
   "source": [
    "horizontal=0\n",
    "depth=0\n",
    "for line in lines2:\n",
    "    code = line.split()\n",
    "    if code[0]=='forward':\n",
    "        horizontal+= int(code[1])\n",
    "    elif code[0]=='up':\n",
    "        depth-=int(code[1])\n",
    "    elif code[0]=='down':\n",
    "        depth+=int(code[1])\n",
    "print(horizontal*depth)"
   ]
  },
  {
   "cell_type": "code",
   "execution_count": 10,
   "metadata": {},
   "outputs": [
    {
     "name": "stdout",
     "output_type": "stream",
     "text": [
      "1840311528\n"
     ]
    }
   ],
   "source": [
    "horizontal=0\n",
    "depth=0\n",
    "aim=0\n",
    "for line in lines2:\n",
    "    code = line.split()\n",
    "    if code[0]=='forward':\n",
    "        horizontal+= int(code[1])\n",
    "        depth+=aim*int(code[1])\n",
    "    elif code[0]=='up':\n",
    "        aim-=int(code[1])\n",
    "    elif code[0]=='down':\n",
    "        aim+=int(code[1])\n",
    "print(horizontal*depth)"
   ]
  },
  {
   "cell_type": "markdown",
   "metadata": {},
   "source": [
    "## Day 3"
   ]
  },
  {
   "cell_type": "code",
   "execution_count": 11,
   "metadata": {},
   "outputs": [],
   "source": [
    "with open('input/input3.txt') as f:\n",
    "    lines3 = f.readlines()"
   ]
  },
  {
   "cell_type": "code",
   "execution_count": 12,
   "metadata": {},
   "outputs": [],
   "source": [
    "def bit_select(lines,i,which='most'):\n",
    "    # Returns most common character in ith place of lines list\n",
    "    chars = {}\n",
    "    for line in lines:\n",
    "        if i >= len(line):\n",
    "            return None\n",
    "        elif line[i] in chars:\n",
    "            chars[line[i]] += 1\n",
    "        else:\n",
    "            chars[line[i]] = 1\n",
    "    if which=='most':\n",
    "        return max(chars, key=chars.get)\n",
    "    elif which=='least':\n",
    "        return min(chars, key=chars.get)"
   ]
  },
  {
   "cell_type": "code",
   "execution_count": 13,
   "metadata": {},
   "outputs": [],
   "source": [
    "def bit_criteria(lines,i,which='o2'):\n",
    "    # Returns most common character in ith place of lines list\n",
    "    chars = {'0':0, '1':0}\n",
    "    for line in lines:\n",
    "        chars[line[i]] += 1\n",
    "    if which=='o2':\n",
    "        if chars['0'] == chars['1']:\n",
    "            return '1'\n",
    "        else:\n",
    "            return max(chars, key=chars.get)\n",
    "    elif which=='co2': \n",
    "        if chars['0'] == chars['1']:\n",
    "            return '0'\n",
    "        else:\n",
    "            return min(chars, key=chars.get)"
   ]
  },
  {
   "cell_type": "code",
   "execution_count": 14,
   "metadata": {},
   "outputs": [
    {
     "name": "stdout",
     "output_type": "stream",
     "text": [
      "gamma = 100100101010 = 2346\n",
      "epsilon = 011011010101 = 1749\n",
      "4103154\n"
     ]
    }
   ],
   "source": [
    "gamma=[]\n",
    "epsilon=[]\n",
    "for i in range(len(lines3[0])-1):\n",
    "    gamma.append(bit_select(lines3,i))\n",
    "    epsilon.append(bit_select(lines3,i,'least'))\n",
    "gamma = ''.join(gamma)\n",
    "epsilon = ''.join(epsilon)\n",
    "print('gamma =',gamma,'=',int(gamma,2))\n",
    "print('epsilon =',epsilon,'=',int(epsilon,2))\n",
    "gamma = int(gamma,2)\n",
    "epsilon = int(epsilon,2)\n",
    "print(gamma*epsilon)"
   ]
  },
  {
   "cell_type": "code",
   "execution_count": 15,
   "metadata": {},
   "outputs": [],
   "source": [
    "with open('input/input4.txt') as f:\n",
    "    lines4 = f.readlines()"
   ]
  },
  {
   "cell_type": "code",
   "execution_count": 16,
   "metadata": {},
   "outputs": [
    {
     "name": "stdout",
     "output_type": "stream",
     "text": [
      "1\n",
      "0\n",
      "1\n",
      "1\n",
      "0\n",
      "0\n",
      "0\n",
      "1\n",
      "1\n",
      "010011100001\n",
      "\n"
     ]
    }
   ],
   "source": [
    "i=0\n",
    "while len(lines4)>1:\n",
    "    b = bit_criteria(lines4,i,'o2')\n",
    "    print(b)\n",
    "    for line in lines4[:]:\n",
    "        if line[i] == b:\n",
    "            if len(lines4)==1:\n",
    "                break\n",
    "            else:\n",
    "                lines4.remove(line)\n",
    "    i+=1\n",
    "print(lines4[0])\n",
    "o2rating = int(lines4[0],2)"
   ]
  },
  {
   "cell_type": "code",
   "execution_count": 17,
   "metadata": {},
   "outputs": [],
   "source": [
    "with open('input/input4.txt') as f:\n",
    "    lines4 = f.readlines()"
   ]
  },
  {
   "cell_type": "code",
   "execution_count": 18,
   "metadata": {},
   "outputs": [
    {
     "name": "stdout",
     "output_type": "stream",
     "text": [
      "0\n",
      "0\n",
      "1\n",
      "0\n",
      "1\n",
      "0\n",
      "1\n",
      "1\n",
      "1\n",
      "0\n",
      "0\n",
      "0\n",
      "110101000111\n",
      "\n"
     ]
    }
   ],
   "source": [
    "i=0\n",
    "while len(lines4)>1:\n",
    "    b = bit_criteria(lines4,i,'co2')\n",
    "    print(b)\n",
    "    for line in lines4[:]:\n",
    "        if line[i] == b:\n",
    "            if len(lines4)==1:\n",
    "                break\n",
    "            else:\n",
    "                lines4.remove(line)\n",
    "    i+=1\n",
    "print(lines4[0])\n",
    "co2rating = int(lines4[0],2)"
   ]
  },
  {
   "cell_type": "code",
   "execution_count": 19,
   "metadata": {},
   "outputs": [
    {
     "name": "stdout",
     "output_type": "stream",
     "text": [
      "4245351\n"
     ]
    }
   ],
   "source": [
    "print(o2rating*co2rating)"
   ]
  },
  {
   "cell_type": "markdown",
   "metadata": {},
   "source": [
    "## Day 4"
   ]
  },
  {
   "cell_type": "code",
   "execution_count": 20,
   "metadata": {},
   "outputs": [],
   "source": [
    "with open('input/input5.txt') as f:\n",
    "    lines5= f.readlines()"
   ]
  },
  {
   "cell_type": "code",
   "execution_count": 21,
   "metadata": {},
   "outputs": [],
   "source": [
    "nums = lines5[0][:-1].split(',')\n",
    "nums = [int(i) for i in nums]\n",
    "\n",
    "boards = []"
   ]
  },
  {
   "cell_type": "code",
   "execution_count": 22,
   "metadata": {},
   "outputs": [],
   "source": [
    "current_board = []\n",
    "for line in lines5[2:]:\n",
    "    if len(line)<2:\n",
    "        boards.append(current_board)\n",
    "        current_board = []\n",
    "    else:\n",
    "        line = [int(i) for i in line[:-1].split()]\n",
    "        current_board.extend(line)"
   ]
  },
  {
   "cell_type": "code",
   "execution_count": 23,
   "metadata": {},
   "outputs": [],
   "source": [
    "def mark_board(board, nums):\n",
    "    # input: 25 number array repr bingo board\n",
    "    # output: 25 binary array repr marked board (0=unmarkd, 1=marked)\n",
    "    result = [0 for i in board]\n",
    "    for n in nums:\n",
    "        if n in board:\n",
    "            result[board.index(n)] = 1\n",
    "    return result"
   ]
  },
  {
   "cell_type": "code",
   "execution_count": 24,
   "metadata": {},
   "outputs": [],
   "source": [
    "def is_row_winner(marked_board, i):\n",
    "    result = marked_board[5*i]==1\n",
    "    for j in range(1,5):\n",
    "        result = result and marked_board[5*i+j]==1\n",
    "    return result\n",
    "\n",
    "def is_col_winner(marked_board, j):\n",
    "    result = marked_board[j]==1\n",
    "    for i in range(1,5):\n",
    "        result = result and marked_board[5*i+j]==1\n",
    "    return result \n",
    "\n",
    "def is_winning(board, nums):\n",
    "    # input: 25 number array repr bingo board,\n",
    "    #        nums is list of numbers called so far\n",
    "    # output: True/False if board has won\n",
    "    mark = mark_board(board, nums)\n",
    "    for i in range(5):\n",
    "        if is_row_winner(mark, i):\n",
    "            return True\n",
    "        if is_col_winner(mark, i):\n",
    "            return True\n",
    "    return False\n",
    "\n",
    "def score_board(board,nums):\n",
    "    mark = mark_board(board,nums)\n",
    "    return sum([int(x) for i,x in enumerate(board) if mark[i]==0])\n",
    "\n",
    "def find_number_of_calls_needed(board,num):\n",
    "    calls = []\n",
    "    i = 0\n",
    "    while not is_winning(board,calls) and i<len(num):\n",
    "        i+=1\n",
    "        calls = num[:i]\n",
    "    return i"
   ]
  },
  {
   "cell_type": "code",
   "execution_count": 25,
   "metadata": {},
   "outputs": [
    {
     "name": "stdout",
     "output_type": "stream",
     "text": [
      "2745\n"
     ]
    }
   ],
   "source": [
    "num_calls = []\n",
    "scores = []\n",
    "for board in boards:\n",
    "    num_calls.append(find_number_of_calls_needed(board,nums))\n",
    "    scores.append(score_board(board,nums[:num_calls[-1]]))\n",
    "first_board = num_calls.index(min(num_calls))\n",
    "score = scores[first_board]\n",
    "winning_value = nums[num_calls[first_board]-1]\n",
    "print(score*winning_value)"
   ]
  },
  {
   "cell_type": "code",
   "execution_count": 26,
   "metadata": {},
   "outputs": [
    {
     "name": "stdout",
     "output_type": "stream",
     "text": [
      "6594\n"
     ]
    }
   ],
   "source": [
    "last_board = num_calls.index(max(num_calls))\n",
    "score_last = scores[last_board]\n",
    "losing_value = nums[num_calls[last_board]-1]\n",
    "print(score_last * losing_value)"
   ]
  },
  {
   "cell_type": "markdown",
   "metadata": {},
   "source": [
    "## Day 5"
   ]
  },
  {
   "cell_type": "code",
   "execution_count": 27,
   "metadata": {},
   "outputs": [],
   "source": [
    "with open('input/input6.txt') as f:\n",
    "    lines6= f.readlines()"
   ]
  },
  {
   "cell_type": "code",
   "execution_count": 28,
   "metadata": {},
   "outputs": [],
   "source": [
    "# lines are lists with four ints: x1, y1, x2, y2\n",
    "class Line():\n",
    "    def __init__(self,x1,y1,x2,y2):\n",
    "        self.x1=x1\n",
    "        self.y1=y1\n",
    "        self.x2=x2\n",
    "        self.y2=y2\n",
    "    \n",
    "    def isHorizontal(self):\n",
    "        return self.y1 == self.y2 and self.x1 != self.x2\n",
    "    \n",
    "    def isVertical(self):\n",
    "        return self.x1 == self.x2 and self.y1 != self.y2\n",
    "\n",
    "def markGrid(grid, line, diag = False):\n",
    "    x_range=[]\n",
    "    y_range=[]\n",
    "    if line.isHorizontal():\n",
    "        if line.x1 < line.x2:\n",
    "            x_range = range(line.x1,line.x2+1)\n",
    "        else:\n",
    "            x_range = range(line.x1,line.x2-1,-1)\n",
    "        y_range = [line.y1 for i in x_range]\n",
    "    elif line.isVertical():\n",
    "        if line.y1 < line.y2:\n",
    "            y_range = range(line.y1,line.y2+1)\n",
    "        else:\n",
    "            y_range = range(line.y1,line.y2-1,-1)\n",
    "        x_range = [line.x1 for i in y_range]\n",
    "    elif diag:\n",
    "        if line.x1 < line.x2:\n",
    "            x_range = range(line.x1,line.x2+1)\n",
    "        else:\n",
    "            x_range = range(line.x1,line.x2-1,-1)\n",
    "        if line.y1 < line.y2:\n",
    "            y_range = range(line.y1,line.y2+1)\n",
    "        else:\n",
    "            y_range = range(line.y1,line.y2-1,-1)\n",
    "    for i, j in zip(x_range, y_range):\n",
    "        key = '{:d},{:d}'.format(i,j)\n",
    "        if key in grid:\n",
    "            grid[key] += 1\n",
    "        else:\n",
    "            grid[key] = 1    "
   ]
  },
  {
   "cell_type": "code",
   "execution_count": 29,
   "metadata": {
    "tags": []
   },
   "outputs": [],
   "source": [
    "grid = {}\n",
    "for line in lines6[:]:\n",
    "    line = line[:-1]\n",
    "    temp = line.split()\n",
    "    x1,y1 = [int(i) for i in temp[0].split(',')]\n",
    "    x2,y2 = [int(i) for i in temp[2].split(',')]\n",
    "    line = Line(x1,y1,x2,y2)\n",
    "    markGrid(grid, line)"
   ]
  },
  {
   "cell_type": "code",
   "execution_count": 30,
   "metadata": {},
   "outputs": [
    {
     "data": {
      "text/plain": "6841"
     },
     "execution_count": 30,
     "metadata": {},
     "output_type": "execute_result"
    }
   ],
   "source": [
    "sum(value>1 for value in grid.values())"
   ]
  },
  {
   "cell_type": "code",
   "execution_count": 31,
   "metadata": {
    "tags": []
   },
   "outputs": [
    {
     "data": {
      "text/plain": "19258"
     },
     "execution_count": 31,
     "metadata": {},
     "output_type": "execute_result"
    }
   ],
   "source": [
    "grid = {}\n",
    "for line in lines6[:]:\n",
    "    line = line[:-1]\n",
    "    temp = line.split()\n",
    "    x1,y1 = [int(i) for i in temp[0].split(',')]\n",
    "    x2,y2 = [int(i) for i in temp[2].split(',')]\n",
    "    line = Line(x1,y1,x2,y2)\n",
    "    markGrid(grid,line,diag=True)\n",
    "sum(value>1 for value in grid.values())"
   ]
  },
  {
   "cell_type": "code",
   "execution_count": 32,
   "metadata": {},
   "outputs": [],
   "source": [
    "file = open('temp.txt','w')\n",
    "for i in range(10):\n",
    "    for j in range(10):\n",
    "        key = '{:d},{:d}'.format(j,i)\n",
    "        if key in grid:\n",
    "            file.write('{:d}'.format(grid[key]))\n",
    "        else:\n",
    "            file.write('.')\n",
    "    file.write('\\n')\n",
    "file.close()"
   ]
  },
  {
   "cell_type": "markdown",
   "metadata": {},
   "source": [
    "## Day 6"
   ]
  },
  {
   "cell_type": "code",
   "execution_count": 33,
   "metadata": {},
   "outputs": [],
   "source": [
    "with open('input/input7.txt') as f:\n",
    "    input7 = f.readlines()   "
   ]
  },
  {
   "cell_type": "code",
   "execution_count": 34,
   "metadata": {},
   "outputs": [
    {
     "name": "stdout",
     "output_type": "stream",
     "text": [
      "[3, 5, 2, 5, 4, 3, 2, 2, 3, 5, 2, 3, 2, 2, 2, 2, 3, 5, 3, 5, 5, 2, 2, 3, 4, 2, 3, 5, 5, 3, 3, 5, 2, 4, 5, 4, 3, 5, 3, 2, 5, 4, 1, 1, 1, 5, 1, 4, 1, 4, 3, 5, 2, 3, 2, 2, 2, 5, 2, 1, 2, 2, 2, 2, 3, 4, 5, 2, 5, 4, 1, 3, 1, 5, 5, 5, 3, 5, 3, 1, 5, 4, 2, 5, 3, 3, 5, 5, 5, 3, 2, 2, 1, 1, 3, 2, 1, 2, 2, 4, 3, 4, 1, 3, 4, 1, 2, 2, 4, 1, 3, 1, 4, 3, 3, 1, 2, 3, 1, 3, 4, 1, 1, 2, 5, 1, 2, 1, 2, 4, 1, 3, 2, 1, 1, 2, 4, 3, 5, 1, 3, 2, 1, 3, 2, 3, 4, 5, 5, 4, 1, 3, 4, 1, 2, 3, 5, 2, 3, 5, 2, 1, 1, 5, 5, 4, 4, 4, 5, 3, 3, 2, 5, 4, 4, 1, 5, 1, 5, 5, 5, 2, 2, 1, 2, 4, 5, 1, 2, 1, 4, 5, 4, 2, 4, 3, 2, 5, 2, 2, 1, 4, 3, 5, 4, 2, 1, 1, 5, 1, 4, 5, 1, 2, 5, 5, 1, 4, 1, 1, 4, 5, 2, 5, 3, 1, 4, 5, 2, 1, 3, 1, 3, 3, 5, 5, 1, 4, 1, 3, 2, 2, 3, 5, 4, 3, 2, 5, 1, 1, 1, 2, 2, 5, 3, 4, 2, 1, 3, 2, 5, 3, 2, 2, 3, 5, 2, 1, 4, 5, 4, 4, 5, 5, 3, 3, 5, 4, 5, 5, 4, 3, 5, 3, 5, 3, 1, 3, 2, 2, 1, 4, 4, 5, 2, 2, 4, 2, 1, 4]\n"
     ]
    }
   ],
   "source": [
    "lanternfish = [int(i) for i in input7[0][:-1].split(',')]\n",
    "print(lanternfish)"
   ]
  },
  {
   "cell_type": "code",
   "execution_count": 35,
   "metadata": {},
   "outputs": [
    {
     "name": "stdout",
     "output_type": "stream",
     "text": [
      "[ 0. 57. 70. 58. 48. 67.  0.  0.  0.]\n",
      "1569108373832.0\n"
     ]
    }
   ],
   "source": [
    "import numpy as np\n",
    "T = np.array([[0, 1, 0, 0, 0, 0, 0, 0, 0],\n",
    "              [0, 0, 1, 0, 0, 0, 0, 0, 0],\n",
    "              [0, 0, 0, 1, 0, 0, 0, 0, 0],\n",
    "              [0, 0, 0, 0, 1, 0, 0, 0, 0],\n",
    "              [0, 0, 0, 0, 0, 1, 0, 0, 0],\n",
    "              [0, 0, 0, 0, 0, 0, 1, 0, 0],\n",
    "              [1, 0, 0, 0, 0, 0, 0, 1, 0],\n",
    "              [0, 0, 0, 0, 0, 0, 0, 0, 1],\n",
    "              [1, 0, 0, 0, 0, 0, 0, 0, 0]],dtype=np.float64)\n",
    "S_0 = np.zeros(9,dtype=np.float64)\n",
    "for i in range(8):\n",
    "    S_0[i] = lanternfish.count(i)\n",
    "print(S_0)\n",
    "#S_0 = [0, 1, 1, 2, 1, 0, 0, 0, 0]\n",
    "S = S_0\n",
    "for i in range(256):\n",
    "    S = np.dot(T, S)\n",
    "print(np.sum(S))"
   ]
  },
  {
   "cell_type": "markdown",
   "metadata": {},
   "source": [
    "## Day 7"
   ]
  },
  {
   "cell_type": "code",
   "execution_count": 36,
   "metadata": {},
   "outputs": [],
   "source": [
    "import numpy as np\n",
    "import math\n",
    "with open('input/input8.txt') as f:\n",
    "    input8 = f.readlines()  "
   ]
  },
  {
   "cell_type": "code",
   "execution_count": 37,
   "metadata": {},
   "outputs": [
    {
     "name": "stdout",
     "output_type": "stream",
     "text": [
      "[1101, 1, 29, 67, 1102, 0, 1, 65, 1008, 65, 35, 66, 1005, 66, 28, 1, 67, 65, 20, 4, 0, 1001, 65, 1, 65, 1106, 0, 8, 99, 35, 67, 101, 99, 105, 32, 110, 39, 101, 115, 116, 32, 112, 97, 115, 32, 117, 110, 101, 32, 105, 110, 116, 99, 111, 100, 101, 32, 112, 114, 111, 103, 114, 97, 109, 10, 106, 684, 36, 657, 427, 156, 197, 56, 205, 1104, 170, 307, 291, 88, 330, 12, 24, 1128, 440, 1099, 1523, 936, 198, 266, 1257, 874, 196, 912, 335, 46, 320, 666, 132, 1035, 145, 877, 1484, 222, 690, 479, 386, 59, 101, 765, 506, 27, 250, 478, 609, 807, 1566, 317, 138, 1390, 245, 1178, 211, 64, 714, 510, 256, 430, 371, 182, 464, 398, 1749, 57, 1023, 4, 891, 1177, 459, 171, 236, 1, 34, 106, 744, 1766, 51, 8, 256, 571, 290, 462, 852, 56, 372, 612, 2, 688, 33, 452, 1182, 739, 696, 123, 469, 583, 77, 40, 191, 416, 1470, 1153, 459, 848, 228, 677, 1203, 8, 70, 1302, 207, 21, 913, 9, 855, 47, 81, 188, 354, 700, 1169, 1199, 620, 197, 41, 138, 1825, 466, 387, 1124, 595, 457, 1231, 3, 61, 292, 120, 98, 846, 893, 97, 142, 673, 429, 797, 139, 193, 83, 586, 1726, 201, 365, 415, 63, 525, 277, 335, 1347, 304, 995, 378, 1884, 185, 331, 69, 351, 134, 972, 262, 208, 21, 108, 1385, 143, 264, 287, 625, 657, 90, 345, 578, 569, 280, 604, 335, 453, 773, 39, 79, 13, 431, 245, 760, 433, 167, 608, 409, 655, 796, 611, 45, 1167, 312, 439, 1106, 420, 365, 431, 169, 147, 567, 20, 401, 699, 356, 56, 35, 1233, 975, 105, 29, 787, 618, 404, 179, 469, 284, 304, 140, 50, 283, 774, 957, 455, 1651, 1, 308, 936, 502, 313, 218, 62, 51, 1, 255, 224, 64, 299, 546, 4, 23, 100, 868, 641, 331, 1810, 399, 272, 105, 156, 1031, 894, 783, 775, 1823, 211, 209, 1375, 64, 897, 1083, 367, 14, 516, 311, 86, 50, 716, 1671, 515, 755, 83, 490, 386, 1015, 359, 620, 192, 921, 1257, 606, 853, 1196, 1304, 92, 1442, 89, 33, 689, 832, 139, 308, 140, 424, 300, 97, 67, 1102, 138, 1166, 753, 53, 274, 236, 245, 567, 205, 368, 1108, 253, 893, 151, 211, 736, 194, 779, 344, 152, 533, 869, 849, 259, 794, 93, 1092, 301, 51, 350, 909, 499, 349, 242, 1014, 55, 813, 613, 75, 211, 1039, 1310, 626, 1440, 381, 904, 25, 1625, 491, 54, 584, 465, 79, 1146, 60, 476, 476, 111, 1350, 721, 283, 1102, 276, 41, 1111, 221, 890, 223, 639, 571, 346, 150, 399, 400, 140, 720, 0, 196, 128, 1125, 610, 339, 1034, 490, 979, 1328, 32, 505, 567, 92, 76, 377, 239, 62, 12, 19, 1265, 857, 182, 781, 834, 682, 802, 201, 313, 20, 165, 71, 21, 108, 961, 1190, 1257, 434, 1223, 208, 488, 93, 19, 96, 29, 205, 264, 1586, 142, 818, 569, 42, 79, 475, 42, 1079, 303, 117, 1569, 4, 422, 750, 142, 454, 116, 3, 1628, 933, 1408, 274, 200, 393, 544, 717, 382, 65, 53, 522, 71, 842, 971, 1288, 128, 590, 46, 882, 1568, 811, 134, 23, 6, 562, 450, 43, 821, 96, 12, 771, 23, 232, 720, 134, 188, 1394, 4, 1365, 134, 44, 1896, 1, 194, 83, 474, 101, 11, 429, 309, 825, 80, 322, 295, 1009, 142, 198, 58, 13, 647, 334, 382, 334, 1364, 106, 206, 479, 282, 683, 379, 86, 381, 1407, 146, 1470, 93, 465, 588, 110, 750, 1118, 744, 171, 103, 594, 79, 1075, 0, 501, 63, 792, 293, 18, 1316, 1510, 143, 406, 344, 453, 28, 341, 178, 11, 76, 1366, 1085, 32, 1536, 1722, 190, 17, 378, 166, 531, 818, 921, 211, 130, 171, 689, 170, 478, 278, 587, 335, 135, 652, 41, 155, 715, 109, 144, 867, 847, 1072, 335, 537, 50, 94, 168, 51, 327, 78, 182, 372, 115, 70, 798, 473, 470, 523, 271, 1028, 1048, 607, 469, 40, 91, 1064, 209, 1759, 38, 994, 781, 602, 80, 31, 387, 356, 494, 373, 44, 10, 379, 62, 174, 96, 1628, 875, 911, 6, 692, 502, 161, 329, 595, 368, 1697, 42, 179, 987, 65, 1091, 343, 657, 84, 184, 98, 926, 208, 728, 698, 269, 165, 99, 856, 410, 167, 339, 884, 258, 502, 50, 158, 252, 331, 1653, 107, 32, 382, 1140, 105, 19, 1433, 32, 827, 5, 826, 1, 1000, 95, 562, 153, 431, 158, 550, 39, 294, 91, 95, 165, 8, 51, 243, 1087, 1290, 597, 688, 839, 332, 61, 41, 321, 11, 217, 150, 1282, 596, 577, 590, 398, 383, 1875, 88, 111, 1357, 315, 28, 1344, 179, 1072, 161, 613, 393, 222, 421, 492, 445, 1090, 234, 154, 78, 440, 856, 492, 1517, 351, 1162, 48, 220, 8, 72, 597, 350, 127, 562, 1510, 488, 177, 547, 32, 82, 111, 47, 0, 137, 264, 14, 327, 46, 908, 505, 518, 30, 866, 16, 315, 58, 708, 1776, 233, 604, 1364, 630, 215, 1684, 1949, 628, 118, 626, 33, 150, 4, 1183, 533, 50, 501, 942, 43, 345, 52, 473, 684, 69, 608, 32, 38, 992, 6, 751, 1106, 523, 93, 418, 297, 608, 378, 1846, 32, 597, 1341, 89, 412, 552, 265, 143, 164, 113, 48, 1181, 1352, 1066, 1128, 686, 670, 639, 159, 177, 120, 761, 632, 129, 7, 1098, 623, 2, 442, 276, 595, 39, 314, 959, 114, 1990, 235, 1025, 50, 1547, 196, 23, 476, 822, 365, 430, 31, 759, 2, 95, 27, 615, 395, 814, 131, 63, 79, 503, 248, 261, 40, 369, 1673, 53, 130, 910, 573, 28, 237, 1073, 133, 107, 509, 222, 1517, 441, 528, 727, 408, 234, 216, 549, 7, 345, 1557, 1194, 372, 271, 219, 268, 243, 478, 253, 2, 209, 278, 1200, 1272, 779, 8, 161, 417, 263, 131, 798, 791, 58, 566, 464, 1109, 370, 448, 1166, 452, 1248, 379, 848, 1212, 280, 444, 139, 145]\n"
     ]
    }
   ],
   "source": [
    "positions = [int(i) for i in input8[0][:].split(',')]\n",
    "print(positions)"
   ]
  },
  {
   "cell_type": "code",
   "execution_count": 38,
   "metadata": {},
   "outputs": [],
   "source": [
    "def compute_fuel_cost(positions, location):\n",
    "    return sum([np.abs(pos-location) for pos in positions])\n",
    "\n",
    "def compute_fuel_cost2(positions, location):\n",
    "    dx = [np.abs(pos-location) for pos in positions]\n",
    "    return sum([n*(n+1)/2 for n in dx])"
   ]
  },
  {
   "cell_type": "code",
   "execution_count": 39,
   "metadata": {},
   "outputs": [],
   "source": [
    "def find_min_cost(positions, ffun=compute_fuel_cost):\n",
    "    best = 0\n",
    "    minimum = ffun(positions,0)\n",
    "    for i in range(1,max(positions)+1):\n",
    "        cur = ffun(positions,i)\n",
    "        if minimum > cur:\n",
    "            minimum, best = cur, i\n",
    "    return minimum, best"
   ]
  },
  {
   "cell_type": "code",
   "execution_count": 40,
   "metadata": {},
   "outputs": [],
   "source": [
    "minimum, best = find_min_cost([16,1,2,0,4,2,7,1,2,14])"
   ]
  },
  {
   "cell_type": "code",
   "execution_count": 41,
   "metadata": {},
   "outputs": [
    {
     "name": "stdout",
     "output_type": "stream",
     "text": [
      "<built-in function min> 2\n"
     ]
    }
   ],
   "source": [
    "print(min,best)"
   ]
  },
  {
   "cell_type": "code",
   "execution_count": 42,
   "metadata": {},
   "outputs": [
    {
     "name": "stdout",
     "output_type": "stream",
     "text": [
      "(337833, 331)\n"
     ]
    }
   ],
   "source": [
    "print(find_min_cost(positions))"
   ]
  },
  {
   "cell_type": "code",
   "execution_count": 43,
   "metadata": {},
   "outputs": [
    {
     "name": "stdout",
     "output_type": "stream",
     "text": [
      "(96678050.0, 461)\n"
     ]
    }
   ],
   "source": [
    "print(find_min_cost(positions,compute_fuel_cost2))"
   ]
  },
  {
   "cell_type": "markdown",
   "metadata": {
    "pycharm": {
     "name": "#%% md\n"
    }
   },
   "source": [
    "## Day 8"
   ]
  },
  {
   "cell_type": "code",
   "execution_count": 44,
   "outputs": [],
   "source": [
    "with open(\"input/input_day8.txt\") as f:\n",
    "    lines = f.readlines()"
   ],
   "metadata": {
    "collapsed": false,
    "pycharm": {
     "name": "#%%\n"
    }
   }
  },
  {
   "cell_type": "code",
   "execution_count": 45,
   "outputs": [],
   "source": [
    "digits = []\n",
    "outputs = []\n",
    "for line in lines[:]:\n",
    "    line = line.strip().split(\" | \")\n",
    "    digits.append(line[0].split())\n",
    "    outputs.append(line[1].split())"
   ],
   "metadata": {
    "collapsed": false,
    "pycharm": {
     "name": "#%%\n"
    }
   }
  },
  {
   "cell_type": "code",
   "execution_count": 46,
   "outputs": [
    {
     "name": "stdout",
     "output_type": "stream",
     "text": [
      "421\n"
     ]
    }
   ],
   "source": [
    "total1478 = 0\n",
    "for output in outputs:\n",
    "    total1478 += len([i for i in output if len(i) in [2, 3, 4, 7]])\n",
    "print(total1478)"
   ],
   "metadata": {
    "collapsed": false,
    "pycharm": {
     "name": "#%%\n"
    }
   }
  },
  {
   "cell_type": "code",
   "execution_count": 47,
   "outputs": [],
   "source": [
    "def isin(str1, str2):\n",
    "    for c in str1:\n",
    "        if c not in str2:\n",
    "            return False\n",
    "    return True\n",
    "\n",
    "def setdiff(str1, str2):\n",
    "    return ''.join([c for c in str1 if c not in str2])\n",
    "\n",
    "def intersect(str1, str2):\n",
    "    return ''.join([c for c in str1 if c in str2])\n",
    "\n",
    "def sortedstring(str1):\n",
    "    return ''.join(sorted([c for c in str1]))"
   ],
   "metadata": {
    "collapsed": false,
    "pycharm": {
     "name": "#%%\n"
    }
   }
  },
  {
   "cell_type": "code",
   "execution_count": 48,
   "outputs": [
    {
     "name": "stdout",
     "output_type": "stream",
     "text": [
      "986163\n"
     ]
    }
   ],
   "source": [
    "out = 0\n",
    "for digit,output in zip(digits[:],outputs[:]):\n",
    "    init = []\n",
    "    for word in digit:\n",
    "        init.append(sortedstring(word))\n",
    "    init.sort(key=len)\n",
    "    nums = {word:-1 for word in init}\n",
    "    nums[init[0]] = 1\n",
    "    nums[init[1]] = 7\n",
    "    nums[init[2]] = 4\n",
    "    nums[init[9]] = 8\n",
    "    for i in range(3,6):\n",
    "        if isin(init[0],init[i]):\n",
    "            nums[init[i]] = 3\n",
    "            i3 = i\n",
    "            break\n",
    "    for i in range(6,9):\n",
    "        if not isin(init[0],init[i]):\n",
    "            nums[init[i]] = 6\n",
    "            i6 = i\n",
    "            break\n",
    "    missing = setdiff(init[0],init[i6])\n",
    "    for i in range(3,6):\n",
    "        if missing not in init[i] and i != i3:\n",
    "            nums[init[i]] = 5\n",
    "            i5 = i\n",
    "            break\n",
    "    for i in range(3,6):\n",
    "        if nums[init[i]] == -1:\n",
    "            nums[init[i]] = 2\n",
    "            i2 = i\n",
    "            break\n",
    "    for i in range(6,9):\n",
    "        if isin(intersect(init[i2],init[i5]),init[i]) and i != i6:\n",
    "            nums[init[i]] = 9\n",
    "            break\n",
    "    for i in range(6,9):\n",
    "        if nums[init[i]] == -1:\n",
    "            nums[init[i]] = 0\n",
    "\n",
    "    for i,word in enumerate(output[:]):\n",
    "        output[i] = sortedstring(word)\n",
    "\n",
    "    out += int(''.join([str(nums[i]) for i in output]))\n",
    "print(out)"
   ],
   "metadata": {
    "collapsed": false,
    "pycharm": {
     "name": "#%%\n"
    }
   }
  },
  {
   "cell_type": "markdown",
   "source": [
    "## Day 9"
   ],
   "metadata": {
    "collapsed": false
   }
  },
  {
   "cell_type": "code",
   "execution_count": 164,
   "outputs": [],
   "source": [
    "with open('input/input_day9.txt') as f:\n",
    "    lines = f.readlines()"
   ],
   "metadata": {
    "collapsed": false,
    "pycharm": {
     "name": "#%%\n"
    }
   }
  },
  {
   "cell_type": "code",
   "execution_count": 165,
   "outputs": [],
   "source": [
    "sea_floor = [[int(val) for val in line.strip()] for line in lines]"
   ],
   "metadata": {
    "collapsed": false,
    "pycharm": {
     "name": "#%%\n"
    }
   }
  },
  {
   "cell_type": "code",
   "execution_count": 166,
   "outputs": [
    {
     "name": "stdout",
     "output_type": "stream",
     "text": [
      "600\n"
     ]
    }
   ],
   "source": [
    "M = len(sea_floor)\n",
    "N = len(sea_floor[0])\n",
    "lows = []\n",
    "for i in range(M):\n",
    "    for j in range(N):\n",
    "        neighbor_values = []\n",
    "        if i>0:\n",
    "            neighbor_values.append(sea_floor[i-1][j])\n",
    "        if i<M-1:\n",
    "            neighbor_values.append(sea_floor[i+1][j])\n",
    "        if j>0:\n",
    "            neighbor_values.append(sea_floor[i][j-1])\n",
    "        if j<N-1:\n",
    "            neighbor_values.append(sea_floor[i][j+1])\n",
    "        if sea_floor[i][j] < min(neighbor_values):\n",
    "            lows.append((i,j,sea_floor[i][j]))\n",
    "print(sum([int(x[2])+1 for x in lows]))\n"
   ],
   "metadata": {
    "collapsed": false,
    "pycharm": {
     "name": "#%%\n"
    }
   }
  },
  {
   "cell_type": "code",
   "execution_count": 167,
   "outputs": [],
   "source": [
    "def mark_basin(sea_floor, basins, current, basin_number):\n",
    "    M = len(sea_floor)\n",
    "    N = len(sea_floor[0])\n",
    "    i = current[0]\n",
    "    j = current[1]\n",
    "    basins[i][j] = basin_number\n",
    "    if i > 0   and sea_floor[i-1][j] > sea_floor[i][j] and sea_floor[i-1][j] != 9:\n",
    "        mark_basin(sea_floor, basins, (i-1,j), basin_number)\n",
    "    if j > 0   and sea_floor[i][j-1] > sea_floor[i][j] and sea_floor[i][j-1] != 9:\n",
    "        mark_basin(sea_floor, basins, (i,j-1), basin_number)\n",
    "    if i < M-1 and sea_floor[i+1][j] > sea_floor[i][j] and sea_floor[i+1][j] != 9:\n",
    "        mark_basin(sea_floor, basins, (i+1,j), basin_number)\n",
    "    if j < N-1 and sea_floor[i][j+1] > sea_floor[i][j] and sea_floor[i][j+1] != 9:\n",
    "        mark_basin(sea_floor, basins, (i,j+1), basin_number)"
   ],
   "metadata": {
    "collapsed": false,
    "pycharm": {
     "name": "#%%\n"
    }
   }
  },
  {
   "cell_type": "code",
   "execution_count": 168,
   "outputs": [],
   "source": [
    "basins = [[0 for val in row] for row in sea_floor]\n",
    "for i,low in enumerate(lows):\n",
    "    mark_basin(sea_floor, basins, (low[0],low[1]), i+1)"
   ],
   "metadata": {
    "collapsed": false,
    "pycharm": {
     "name": "#%%\n"
    }
   }
  },
  {
   "cell_type": "code",
   "execution_count": 169,
   "outputs": [
    {
     "name": "stdout",
     "output_type": "stream",
     "text": [
      "987840\n"
     ]
    }
   ],
   "source": [
    "tops = [[val for row in basins for val in row].count(i) for i in range(1,len(lows)+1)]\n",
    "tops.sort(reverse=True)\n",
    "print(tops[0]*tops[1]*tops[2])"
   ],
   "metadata": {
    "collapsed": false,
    "pycharm": {
     "name": "#%%\n"
    }
   }
  },
  {
   "cell_type": "code",
   "execution_count": 154,
   "outputs": [],
   "source": [
    "f = open('output/output.txt','w')\n",
    "for row in basins:\n",
    "    for val in row:\n",
    "        f.write(\"{:4d}\".format(val))\n",
    "    f.write(\"\\n\")\n",
    "f.close()"
   ],
   "metadata": {
    "collapsed": false,
    "pycharm": {
     "name": "#%%\n"
    }
   }
  },
  {
   "cell_type": "code",
   "execution_count": 155,
   "outputs": [],
   "source": [
    "f = open('output/output2.txt','w')\n",
    "for row in sea_floor:\n",
    "    for val in row:\n",
    "        f.write(\"{:4d}\".format(val))\n",
    "    f.write(\"\\n\")\n",
    "f.close()"
   ],
   "metadata": {
    "collapsed": false,
    "pycharm": {
     "name": "#%%\n"
    }
   }
  },
  {
   "cell_type": "markdown",
   "source": [
    "## Day 10"
   ],
   "metadata": {
    "collapsed": false
   }
  },
  {
   "cell_type": "code",
   "source": [
    "with open(\"input/input_day10.txt\") as f:\n",
    "    lines = f.readlines()"
   ],
   "metadata": {
    "collapsed": false,
    "pycharm": {
     "name": "#%%\n"
    }
   },
   "execution_count": 192,
   "outputs": []
  },
  {
   "cell_type": "code",
   "execution_count": 193,
   "outputs": [],
   "source": [
    "lines = [line.strip() for line in lines]"
   ],
   "metadata": {
    "collapsed": false,
    "pycharm": {
     "name": "#%%\n"
    }
   }
  },
  {
   "cell_type": "code",
   "execution_count": 194,
   "outputs": [
    {
     "name": "stdout",
     "output_type": "stream",
     "text": [
      "392139\n",
      "4001832844\n"
     ]
    }
   ],
   "source": [
    "opening = ['(', '[', '{', '<']\n",
    "closing = [')', ']', '}', '>']\n",
    "scores = [3, 57, 1197, 25137]\n",
    "completion_scores = [1,2,3,4]\n",
    "\n",
    "openings = []\n",
    "total_score = 0\n",
    "completion_line_scores = []\n",
    "for line in lines:\n",
    "    line_score = 0\n",
    "    openings = []\n",
    "    for c in line:\n",
    "        if c in opening:\n",
    "            openings.append(c)\n",
    "        else:\n",
    "            current_opening = openings.pop()\n",
    "            index_of_opening = opening.index(current_opening)\n",
    "            index_of_closing = closing.index(c)\n",
    "            if index_of_closing != index_of_opening:\n",
    "                line_score += scores[index_of_closing]\n",
    "    if line_score>0:\n",
    "        total_score += line_score\n",
    "    else:\n",
    "        completion = ''\n",
    "        while len(openings)>0:\n",
    "            current_opening = openings.pop()\n",
    "            index_of_opening = opening.index(current_opening)\n",
    "            completion += closing[index_of_opening]\n",
    "        completion_score = 0\n",
    "        for c in completion:\n",
    "            completion_score = 5 * completion_score + completion_scores[closing.index(c)]\n",
    "        completion_line_scores.append(completion_score)\n",
    "\n",
    "print(total_score)\n",
    "completion_line_scores.sort()\n",
    "print(completion_line_scores[len(completion_line_scores)//2])"
   ],
   "metadata": {
    "collapsed": false,
    "pycharm": {
     "name": "#%%\n"
    }
   }
  },
  {
   "cell_type": "markdown",
   "source": [
    "## Day 11"
   ],
   "metadata": {
    "collapsed": false,
    "pycharm": {
     "name": "#%% md\n"
    }
   }
  },
  {
   "cell_type": "code",
   "execution_count": 11,
   "outputs": [],
   "source": [
    "with open('input/input_day11.txt') as f:\n",
    "    lines = f.readlines()"
   ],
   "metadata": {
    "collapsed": false,
    "pycharm": {
     "name": "#%%\n"
    }
   }
  },
  {
   "cell_type": "code",
   "execution_count": 12,
   "outputs": [],
   "source": [
    "octopi = [[int(i) for i in line.strip()] for line in lines]"
   ],
   "metadata": {
    "collapsed": false,
    "pycharm": {
     "name": "#%%\n"
    }
   }
  },
  {
   "cell_type": "code",
   "execution_count": 13,
   "outputs": [],
   "source": [
    "M = len(octopi)\n",
    "N = len(octopi[0])"
   ],
   "metadata": {
    "collapsed": false,
    "pycharm": {
     "name": "#%%\n"
    }
   }
  },
  {
   "cell_type": "code",
   "execution_count": 14,
   "outputs": [],
   "source": [
    "def increment_neighbors(octo, i, j, flash=False):\n",
    "    M = len(octo)\n",
    "    N = len(octo[0])\n",
    "    for row in range(max(0,i-1),min(M,i+2)):\n",
    "        for col in range(max(0,j-1),min(N,j+2)):\n",
    "            if row != i or col!=j:\n",
    "                if not flash:\n",
    "                    octo[row][col] +=1\n",
    "                elif octo[row][col] != 0:\n",
    "                    octo[row][col] += 1\n",
    "\n",
    "def print_octopi(octo):\n",
    "    for row in range(len(octo)):\n",
    "        for col in range(len(octo[0])):\n",
    "            print(\"{:2d}\".format(octo[row][col]), end=' ')\n",
    "        print()\n",
    "\n",
    "def take_step(octo):\n",
    "    flashes = 0\n",
    "    for row in range(len(octo)):\n",
    "        for col in range(len(octo[0])):\n",
    "            octo[row][col] += 1\n",
    "    count_bigs = sum([len([int(x) for x in line if x>9]) for line in octo])\n",
    "    while count_bigs > 0:\n",
    "        for row in range(len(octo)):\n",
    "            for col in range(len(octo[0])):\n",
    "                if octo[row][col] > 9:\n",
    "                    flashes += 1\n",
    "                    octo[row][col] = 0\n",
    "                    increment_neighbors(octo,row,col,flash=True)\n",
    "        count_bigs = sum([len([x for x in line if x>9]) for line in octo])\n",
    "    return flashes"
   ],
   "metadata": {
    "collapsed": false,
    "pycharm": {
     "name": "#%%\n"
    }
   }
  },
  {
   "cell_type": "code",
   "execution_count": 15,
   "outputs": [],
   "source": [
    "octo1 = octopi.copy()\n",
    "total_flashes = 0\n",
    "for i in range(100):\n",
    "    total_flashes += take_step(octo1)"
   ],
   "metadata": {
    "collapsed": false,
    "pycharm": {
     "name": "#%%\n"
    }
   }
  },
  {
   "cell_type": "code",
   "execution_count": 16,
   "outputs": [
    {
     "name": "stdout",
     "output_type": "stream",
     "text": [
      "1723\n"
     ]
    }
   ],
   "source": [
    "print(total_flashes)"
   ],
   "metadata": {
    "collapsed": false,
    "pycharm": {
     "name": "#%%\n"
    }
   }
  },
  {
   "cell_type": "code",
   "execution_count": 18,
   "outputs": [
    {
     "name": "stdout",
     "output_type": "stream",
     "text": [
      "327\n"
     ]
    }
   ],
   "source": [
    "octopi = [[int(i) for i in line.strip()] for line in lines]\n",
    "octo2 = octopi[:]\n",
    "count_zeros = sum([len([int(x) for x in line if x==0]) for line in octo2])\n",
    "iters = 0\n",
    "while count_zeros < M*N:\n",
    "    iters+=1\n",
    "    take_step(octo2)\n",
    "    count_zeros = sum([len([int(x) for x in line if x==0]) for line in octo2])\n",
    "print(iters)"
   ],
   "metadata": {
    "collapsed": false,
    "pycharm": {
     "name": "#%%\n"
    }
   }
  },
  {
   "cell_type": "markdown",
   "source": [
    "## Day 12"
   ],
   "metadata": {
    "collapsed": false,
    "pycharm": {
     "name": "#%% md\n"
    }
   }
  },
  {
   "cell_type": "code",
   "execution_count": 110,
   "outputs": [
    {
     "data": {
      "text/plain": "{'start': ['co', 'zi', 'RI'],\n 'co': ['start', 'zi', 'le', 'RI'],\n 'ip': ['WE', 'wt', 'sz', 'zi', 'RI'],\n 'WE': ['ip', 'end', 'sz', 'le', 'wt'],\n 'end': ['WE', 'sz', 'le'],\n 'le': ['ls', 'end', 'WE', 'wt', 'co'],\n 'ls': ['le'],\n 'wt': ['zi', 'RI', 'sz', 'ip', 'le', 'WE'],\n 'zi': ['wt', 'start', 'ip', 'RI', 'co', 'WB'],\n 'sz': ['end', 'wt', 'YT', 'ip', 'WE'],\n 'RI': ['wt', 'start', 'zi', 'co', 'ip'],\n 'YT': ['sz'],\n 'WB': ['zi']}"
     },
     "execution_count": 110,
     "metadata": {},
     "output_type": "execute_result"
    }
   ],
   "source": [
    "with open('input/input_day12.txt') as f:\n",
    "    lines = f.readlines()\n",
    "lines = [line.strip() for line in lines]\n",
    "my_graph = {}\n",
    "for line in lines:\n",
    "    nodes = line.split('-')\n",
    "    if nodes[0] in my_graph.keys():\n",
    "        my_graph[nodes[0]].append(nodes[1])\n",
    "    else:\n",
    "        my_graph[nodes[0]] = [nodes[1]]\n",
    "    if nodes[1] in my_graph.keys():\n",
    "        my_graph[nodes[1]].append(nodes[0])\n",
    "    else:\n",
    "        my_graph[nodes[1]] = [nodes[0]]\n",
    "my_graph"
   ],
   "metadata": {
    "collapsed": false,
    "pycharm": {
     "name": "#%%\n"
    }
   }
  },
  {
   "cell_type": "code",
   "execution_count": 111,
   "outputs": [],
   "source": [
    "def find_all_paths(graph,start,end,path=[]):\n",
    "    path = path + [start]\n",
    "    if start == end:\n",
    "        return [path]\n",
    "    if start not in graph.keys():\n",
    "        return []\n",
    "    paths = []\n",
    "    for node in graph[start]:\n",
    "        if (node.islower() and node not in path) or node.isupper():\n",
    "            newpaths = find_all_paths(graph, node, end, path)\n",
    "            for newpath in newpaths:\n",
    "                paths.append(newpath)\n",
    "    return paths"
   ],
   "metadata": {
    "collapsed": false,
    "pycharm": {
     "name": "#%%\n"
    }
   }
  },
  {
   "cell_type": "code",
   "execution_count": 112,
   "outputs": [
    {
     "data": {
      "text/plain": "5756"
     },
     "execution_count": 112,
     "metadata": {},
     "output_type": "execute_result"
    }
   ],
   "source": [
    "my_paths = find_all_paths(my_graph,'start','end')\n",
    "len(my_paths)"
   ],
   "metadata": {
    "collapsed": false,
    "pycharm": {
     "name": "#%%\n"
    }
   }
  },
  {
   "cell_type": "code",
   "execution_count": 113,
   "outputs": [],
   "source": [
    "def find_all_paths2(graph,start,end,path=[]):\n",
    "    path = path + [start]\n",
    "    if start == end:\n",
    "        return [path]\n",
    "    if start not in graph.keys():\n",
    "        return []\n",
    "    paths = []\n",
    "    count_small_x2 = 0\n",
    "    nodes_in_path = {node for node in path}\n",
    "    for node in nodes_in_path:\n",
    "        if node.islower() and node!='start' and path.count(node) == 2:\n",
    "            count_small_x2 += 1\n",
    "    for node in graph[start]:\n",
    "        times_in_path = path.count(node)\n",
    "        if (node.islower() and times_in_path < 2 and node!='start' and count_small_x2==0) \\\n",
    "                or (node.islower() and node not in path and count_small_x2>0) \\\n",
    "                or node.isupper() \\\n",
    "                or (node == 'start' and times_in_path==0):\n",
    "            if node.islower() and times_in_path == 1 and node!= 'start':\n",
    "                smallx2 = False\n",
    "            newpaths = find_all_paths2(graph, node, end, path)\n",
    "            for newpath in newpaths:\n",
    "                paths.append(newpath)\n",
    "    return paths"
   ],
   "metadata": {
    "collapsed": false,
    "pycharm": {
     "name": "#%%\n"
    }
   }
  },
  {
   "cell_type": "code",
   "execution_count": 114,
   "outputs": [
    {
     "data": {
      "text/plain": "144603"
     },
     "execution_count": 114,
     "metadata": {},
     "output_type": "execute_result"
    }
   ],
   "source": [
    "my_paths = find_all_paths2(my_graph,'start','end')\n",
    "len(my_paths)"
   ],
   "metadata": {
    "collapsed": false,
    "pycharm": {
     "name": "#%%\n"
    }
   }
  }
 ],
 "metadata": {
  "kernelspec": {
   "name": "python3",
   "language": "python",
   "display_name": "Python 3"
  },
  "language_info": {
   "codemirror_mode": {
    "name": "ipython",
    "version": 3
   },
   "file_extension": ".py",
   "mimetype": "text/x-python",
   "name": "python",
   "nbconvert_exporter": "python",
   "pygments_lexer": "ipython3",
   "version": "3.8.8"
  }
 },
 "nbformat": 4,
 "nbformat_minor": 4
}