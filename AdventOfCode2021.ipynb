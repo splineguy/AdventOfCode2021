{
 "cells": [
  {
   "cell_type": "markdown",
   "metadata": {},
   "source": [
    "# Advent of Code 2021"
   ]
  },
  {
   "cell_type": "markdown",
   "metadata": {},
   "source": [
    "## Day 1"
   ]
  },
  {
   "cell_type": "code",
   "execution_count": 13,
   "metadata": {},
   "outputs": [],
   "source": [
    "import numpy as np\n",
    "import matplotlib.pyplot as plt\n",
    "\n",
    "with open('input.txt') as f:\n",
    "    lines = f.readlines()"
   ]
  },
  {
   "cell_type": "code",
   "execution_count": 14,
   "metadata": {},
   "outputs": [],
   "source": [
    "nums = [int(i) for i in lines]"
   ]
  },
  {
   "cell_type": "code",
   "execution_count": 15,
   "metadata": {},
   "outputs": [],
   "source": [
    "def count_increases(depths):\n",
    "    count = 0\n",
    "    for i in range(len(depths)-1):\n",
    "        if depths[i] < depths[i+1]:\n",
    "            count+=1\n",
    "    return count"
   ]
  },
  {
   "cell_type": "code",
   "execution_count": 16,
   "metadata": {},
   "outputs": [
    {
     "name": "stdout",
     "output_type": "stream",
     "text": [
      "1616\n"
     ]
    }
   ],
   "source": [
    "print(count_increases(nums))"
   ]
  },
  {
   "cell_type": "code",
   "execution_count": 17,
   "metadata": {},
   "outputs": [],
   "source": [
    "nums = np.array(nums)"
   ]
  },
  {
   "cell_type": "code",
   "execution_count": 18,
   "metadata": {},
   "outputs": [],
   "source": [
    "rolling3 = nums[0:-2]+nums[1:-1]+nums[2:]"
   ]
  },
  {
   "cell_type": "code",
   "execution_count": 19,
   "metadata": {},
   "outputs": [
    {
     "name": "stdout",
     "output_type": "stream",
     "text": [
      "1645\n"
     ]
    }
   ],
   "source": [
    "print(count_increases(rolling3))"
   ]
  },
  {
   "cell_type": "markdown",
   "metadata": {},
   "source": [
    "## Day 2"
   ]
  },
  {
   "cell_type": "code",
   "execution_count": 20,
   "metadata": {},
   "outputs": [],
   "source": [
    "with open('input2.txt') as f:\n",
    "    lines2 = f.readlines()"
   ]
  },
  {
   "cell_type": "code",
   "execution_count": 22,
   "metadata": {},
   "outputs": [
    {
     "name": "stdout",
     "output_type": "stream",
     "text": [
      "2073315\n"
     ]
    }
   ],
   "source": [
    "horizontal=0\n",
    "depth=0\n",
    "for line in lines2:\n",
    "    code = line.split()\n",
    "    if code[0]=='forward':\n",
    "        horizontal+= int(code[1])\n",
    "    elif code[0]=='up':\n",
    "        depth-=int(code[1])\n",
    "    elif code[0]=='down':\n",
    "        depth+=int(code[1])\n",
    "print(horizontal*depth)"
   ]
  },
  {
   "cell_type": "code",
   "execution_count": 23,
   "metadata": {},
   "outputs": [
    {
     "name": "stdout",
     "output_type": "stream",
     "text": [
      "1840311528\n"
     ]
    }
   ],
   "source": [
    "horizontal=0\n",
    "depth=0\n",
    "aim=0\n",
    "for line in lines2:\n",
    "    code = line.split()\n",
    "    if code[0]=='forward':\n",
    "        horizontal+= int(code[1])\n",
    "        depth+=aim*int(code[1])\n",
    "    elif code[0]=='up':\n",
    "        aim-=int(code[1])\n",
    "    elif code[0]=='down':\n",
    "        aim+=int(code[1])\n",
    "print(horizontal*depth)"
   ]
  },
  {
   "cell_type": "markdown",
   "metadata": {},
   "source": [
    "## Day 3"
   ]
  },
  {
   "cell_type": "code",
   "execution_count": 67,
   "metadata": {},
   "outputs": [],
   "source": [
    "with open('input3.txt') as f:\n",
    "    lines3 = f.readlines()"
   ]
  },
  {
   "cell_type": "code",
   "execution_count": 84,
   "metadata": {},
   "outputs": [],
   "source": [
    "def bit_select(lines,i,which='most'):\n",
    "    # Returns most common character in ith place of lines list\n",
    "    chars = {}\n",
    "    for line in lines:\n",
    "        if i >= len(line):\n",
    "            return None\n",
    "        elif line[i] in chars:\n",
    "            chars[line[i]] += 1\n",
    "        else:\n",
    "            chars[line[i]] = 1\n",
    "    if which=='most':\n",
    "        return max(chars, key=chars.get)\n",
    "    elif which=='least':\n",
    "        return min(chars, key=chars.get)"
   ]
  },
  {
   "cell_type": "code",
   "execution_count": 152,
   "metadata": {},
   "outputs": [],
   "source": [
    "def bit_criteria(lines,i,which='o2'):\n",
    "    # Returns most common character in ith place of lines list\n",
    "    chars = {'0':0, '1':0}\n",
    "    for line in lines:\n",
    "        chars[line[i]] += 1\n",
    "    if which=='o2':\n",
    "        if chars['0'] == chars['1']:\n",
    "            return '1'\n",
    "        else:\n",
    "            return max(chars, key=chars.get)\n",
    "    elif which=='co2': \n",
    "        if chars['0'] == chars['1']:\n",
    "            return '0'\n",
    "        else:\n",
    "            return min(chars, key=chars.get)"
   ]
  },
  {
   "cell_type": "code",
   "execution_count": 135,
   "metadata": {},
   "outputs": [
    {
     "name": "stdout",
     "output_type": "stream",
     "text": [
      "gamma = 100100101010 = 2346\n",
      "epsilon = 011011010101 = 1749\n",
      "4103154\n"
     ]
    }
   ],
   "source": [
    "gamma=[]\n",
    "epsilon=[]\n",
    "for i in range(len(lines3[0])-1):\n",
    "    gamma.append(bit_select(lines3,i))\n",
    "    epsilon.append(bit_select(lines3,i,'least'))\n",
    "gamma = ''.join(gamma)\n",
    "epsilon = ''.join(epsilon)\n",
    "print('gamma =',gamma,'=',int(gamma,2))\n",
    "print('epsilon =',epsilon,'=',int(epsilon,2))\n",
    "gamma = int(gamma,2)\n",
    "epsilon = int(epsilon,2)\n",
    "print(gamma*epsilon)"
   ]
  },
  {
   "cell_type": "code",
   "execution_count": 187,
   "metadata": {},
   "outputs": [],
   "source": [
    "with open('input4.txt') as f:\n",
    "    lines4 = f.readlines()"
   ]
  },
  {
   "cell_type": "code",
   "execution_count": 188,
   "metadata": {},
   "outputs": [
    {
     "name": "stdout",
     "output_type": "stream",
     "text": [
      "1\n",
      "0\n",
      "1\n",
      "1\n",
      "0\n",
      "0\n",
      "0\n",
      "1\n",
      "1\n",
      "010011100001\n",
      "\n"
     ]
    }
   ],
   "source": [
    "i=0\n",
    "while len(lines4)>1:\n",
    "    b = bit_criteria(lines4,i,'o2')\n",
    "    print(b)\n",
    "    for line in lines4[:]:\n",
    "        if line[i] == b:\n",
    "            if len(lines4)==1:\n",
    "                break\n",
    "            else:\n",
    "                lines4.remove(line)\n",
    "    i+=1\n",
    "print(lines4[0])\n",
    "o2rating = int(lines4[0],2)"
   ]
  },
  {
   "cell_type": "code",
   "execution_count": 189,
   "metadata": {},
   "outputs": [],
   "source": [
    "with open('input4.txt') as f:\n",
    "    lines4 = f.readlines()"
   ]
  },
  {
   "cell_type": "code",
   "execution_count": 190,
   "metadata": {},
   "outputs": [
    {
     "name": "stdout",
     "output_type": "stream",
     "text": [
      "0\n",
      "0\n",
      "1\n",
      "0\n",
      "1\n",
      "0\n",
      "1\n",
      "1\n",
      "1\n",
      "0\n",
      "0\n",
      "0\n",
      "110101000111\n",
      "\n"
     ]
    }
   ],
   "source": [
    "i=0\n",
    "while len(lines4)>1:\n",
    "    b = bit_criteria(lines4,i,'co2')\n",
    "    print(b)\n",
    "    for line in lines4[:]:\n",
    "        if line[i] == b:\n",
    "            if len(lines4)==1:\n",
    "                break\n",
    "            else:\n",
    "                lines4.remove(line)\n",
    "    i+=1\n",
    "print(lines4[0])\n",
    "co2rating = int(lines4[0],2)"
   ]
  },
  {
   "cell_type": "code",
   "execution_count": 191,
   "metadata": {},
   "outputs": [
    {
     "name": "stdout",
     "output_type": "stream",
     "text": [
      "4245351\n"
     ]
    }
   ],
   "source": [
    "print(o2rating*co2rating)"
   ]
  },
  {
   "cell_type": "code",
   "execution_count": null,
   "metadata": {},
   "outputs": [],
   "source": []
  }
 ],
 "metadata": {
  "kernelspec": {
   "display_name": "Python (base)",
   "language": "python",
   "name": "base"
  },
  "language_info": {
   "codemirror_mode": {
    "name": "ipython",
    "version": 3
   },
   "file_extension": ".py",
   "mimetype": "text/x-python",
   "name": "python",
   "nbconvert_exporter": "python",
   "pygments_lexer": "ipython3",
   "version": "3.8.8"
  }
 },
 "nbformat": 4,
 "nbformat_minor": 4
}
