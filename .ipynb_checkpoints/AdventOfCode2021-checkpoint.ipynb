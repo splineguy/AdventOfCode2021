{
 "cells": [
  {
   "cell_type": "markdown",
   "metadata": {},
   "source": [
    "# Advent of Code 2021"
   ]
  },
  {
   "cell_type": "markdown",
   "metadata": {},
   "source": [
    "## Day 1"
   ]
  },
  {
   "cell_type": "code",
   "execution_count": 13,
   "metadata": {},
   "outputs": [],
   "source": [
    "import numpy as np\n",
    "import matplotlib.pyplot as plt\n",
    "\n",
    "with open('input.txt') as f:\n",
    "    lines = f.readlines()"
   ]
  },
  {
   "cell_type": "code",
   "execution_count": 14,
   "metadata": {},
   "outputs": [],
   "source": [
    "nums = [int(i) for i in lines]"
   ]
  },
  {
   "cell_type": "code",
   "execution_count": 15,
   "metadata": {},
   "outputs": [],
   "source": [
    "def count_increases(depths):\n",
    "    count = 0\n",
    "    for i in range(len(depths)-1):\n",
    "        if depths[i] < depths[i+1]:\n",
    "            count+=1\n",
    "    return count"
   ]
  },
  {
   "cell_type": "code",
   "execution_count": 16,
   "metadata": {},
   "outputs": [
    {
     "name": "stdout",
     "output_type": "stream",
     "text": [
      "1616\n"
     ]
    }
   ],
   "source": [
    "print(count_increases(nums))"
   ]
  },
  {
   "cell_type": "code",
   "execution_count": 17,
   "metadata": {},
   "outputs": [],
   "source": [
    "nums = np.array(nums)"
   ]
  },
  {
   "cell_type": "code",
   "execution_count": 18,
   "metadata": {},
   "outputs": [],
   "source": [
    "rolling3 = nums[0:-2]+nums[1:-1]+nums[2:]"
   ]
  },
  {
   "cell_type": "code",
   "execution_count": 19,
   "metadata": {},
   "outputs": [
    {
     "name": "stdout",
     "output_type": "stream",
     "text": [
      "1645\n"
     ]
    }
   ],
   "source": [
    "print(count_increases(rolling3))"
   ]
  },
  {
   "cell_type": "markdown",
   "metadata": {},
   "source": [
    "## Day 2"
   ]
  },
  {
   "cell_type": "code",
   "execution_count": 20,
   "metadata": {},
   "outputs": [],
   "source": [
    "with open('input2.txt') as f:\n",
    "    lines2 = f.readlines()"
   ]
  },
  {
   "cell_type": "code",
   "execution_count": 22,
   "metadata": {},
   "outputs": [
    {
     "name": "stdout",
     "output_type": "stream",
     "text": [
      "2073315\n"
     ]
    }
   ],
   "source": [
    "horizontal=0\n",
    "depth=0\n",
    "for line in lines2:\n",
    "    code = line.split()\n",
    "    if code[0]=='forward':\n",
    "        horizontal+= int(code[1])\n",
    "    elif code[0]=='up':\n",
    "        depth-=int(code[1])\n",
    "    elif code[0]=='down':\n",
    "        depth+=int(code[1])\n",
    "print(horizontal*depth)"
   ]
  },
  {
   "cell_type": "code",
   "execution_count": 23,
   "metadata": {},
   "outputs": [
    {
     "name": "stdout",
     "output_type": "stream",
     "text": [
      "1840311528\n"
     ]
    }
   ],
   "source": [
    "horizontal=0\n",
    "depth=0\n",
    "aim=0\n",
    "for line in lines2:\n",
    "    code = line.split()\n",
    "    if code[0]=='forward':\n",
    "        horizontal+= int(code[1])\n",
    "        depth+=aim*int(code[1])\n",
    "    elif code[0]=='up':\n",
    "        aim-=int(code[1])\n",
    "    elif code[0]=='down':\n",
    "        aim+=int(code[1])\n",
    "print(horizontal*depth)"
   ]
  },
  {
   "cell_type": "markdown",
   "metadata": {},
   "source": [
    "## Day 3"
   ]
  },
  {
   "cell_type": "code",
   "execution_count": 67,
   "metadata": {},
   "outputs": [],
   "source": [
    "with open('input3.txt') as f:\n",
    "    lines3 = f.readlines()"
   ]
  },
  {
   "cell_type": "code",
   "execution_count": 84,
   "metadata": {},
   "outputs": [],
   "source": [
    "def bit_select(lines,i,which='most'):\n",
    "    # Returns most common character in ith place of lines list\n",
    "    chars = {}\n",
    "    for line in lines:\n",
    "        if i >= len(line):\n",
    "            return None\n",
    "        elif line[i] in chars:\n",
    "            chars[line[i]] += 1\n",
    "        else:\n",
    "            chars[line[i]] = 1\n",
    "    if which=='most':\n",
    "        return max(chars, key=chars.get)\n",
    "    elif which=='least':\n",
    "        return min(chars, key=chars.get)"
   ]
  },
  {
   "cell_type": "code",
   "execution_count": 152,
   "metadata": {},
   "outputs": [],
   "source": [
    "def bit_criteria(lines,i,which='o2'):\n",
    "    # Returns most common character in ith place of lines list\n",
    "    chars = {'0':0, '1':0}\n",
    "    for line in lines:\n",
    "        chars[line[i]] += 1\n",
    "    if which=='o2':\n",
    "        if chars['0'] == chars['1']:\n",
    "            return '1'\n",
    "        else:\n",
    "            return max(chars, key=chars.get)\n",
    "    elif which=='co2': \n",
    "        if chars['0'] == chars['1']:\n",
    "            return '0'\n",
    "        else:\n",
    "            return min(chars, key=chars.get)"
   ]
  },
  {
   "cell_type": "code",
   "execution_count": 135,
   "metadata": {},
   "outputs": [
    {
     "name": "stdout",
     "output_type": "stream",
     "text": [
      "gamma = 100100101010 = 2346\n",
      "epsilon = 011011010101 = 1749\n",
      "4103154\n"
     ]
    }
   ],
   "source": [
    "gamma=[]\n",
    "epsilon=[]\n",
    "for i in range(len(lines3[0])-1):\n",
    "    gamma.append(bit_select(lines3,i))\n",
    "    epsilon.append(bit_select(lines3,i,'least'))\n",
    "gamma = ''.join(gamma)\n",
    "epsilon = ''.join(epsilon)\n",
    "print('gamma =',gamma,'=',int(gamma,2))\n",
    "print('epsilon =',epsilon,'=',int(epsilon,2))\n",
    "gamma = int(gamma,2)\n",
    "epsilon = int(epsilon,2)\n",
    "print(gamma*epsilon)"
   ]
  },
  {
   "cell_type": "code",
   "execution_count": 187,
   "metadata": {},
   "outputs": [],
   "source": [
    "with open('input4.txt') as f:\n",
    "    lines4 = f.readlines()"
   ]
  },
  {
   "cell_type": "code",
   "execution_count": 188,
   "metadata": {},
   "outputs": [
    {
     "name": "stdout",
     "output_type": "stream",
     "text": [
      "1\n",
      "0\n",
      "1\n",
      "1\n",
      "0\n",
      "0\n",
      "0\n",
      "1\n",
      "1\n",
      "010011100001\n",
      "\n"
     ]
    }
   ],
   "source": [
    "i=0\n",
    "while len(lines4)>1:\n",
    "    b = bit_criteria(lines4,i,'o2')\n",
    "    print(b)\n",
    "    for line in lines4[:]:\n",
    "        if line[i] == b:\n",
    "            if len(lines4)==1:\n",
    "                break\n",
    "            else:\n",
    "                lines4.remove(line)\n",
    "    i+=1\n",
    "print(lines4[0])\n",
    "o2rating = int(lines4[0],2)"
   ]
  },
  {
   "cell_type": "code",
   "execution_count": 189,
   "metadata": {},
   "outputs": [],
   "source": [
    "with open('input4.txt') as f:\n",
    "    lines4 = f.readlines()"
   ]
  },
  {
   "cell_type": "code",
   "execution_count": 190,
   "metadata": {},
   "outputs": [
    {
     "name": "stdout",
     "output_type": "stream",
     "text": [
      "0\n",
      "0\n",
      "1\n",
      "0\n",
      "1\n",
      "0\n",
      "1\n",
      "1\n",
      "1\n",
      "0\n",
      "0\n",
      "0\n",
      "110101000111\n",
      "\n"
     ]
    }
   ],
   "source": [
    "i=0\n",
    "while len(lines4)>1:\n",
    "    b = bit_criteria(lines4,i,'co2')\n",
    "    print(b)\n",
    "    for line in lines4[:]:\n",
    "        if line[i] == b:\n",
    "            if len(lines4)==1:\n",
    "                break\n",
    "            else:\n",
    "                lines4.remove(line)\n",
    "    i+=1\n",
    "print(lines4[0])\n",
    "co2rating = int(lines4[0],2)"
   ]
  },
  {
   "cell_type": "code",
   "execution_count": 191,
   "metadata": {},
   "outputs": [
    {
     "name": "stdout",
     "output_type": "stream",
     "text": [
      "4245351\n"
     ]
    }
   ],
   "source": [
    "print(o2rating*co2rating)"
   ]
  },
  {
   "cell_type": "markdown",
   "metadata": {},
   "source": [
    "## Day 4"
   ]
  },
  {
   "cell_type": "code",
   "execution_count": 1,
   "metadata": {},
   "outputs": [],
   "source": [
    "with open('input4.txt') as f:\n",
    "    lines5= f.readlines()"
   ]
  },
  {
   "cell_type": "code",
   "execution_count": 5,
   "metadata": {},
   "outputs": [
    {
     "ename": "ValueError",
     "evalue": "invalid literal for int() with base 10: '11 60 66 12 52\\n'",
     "output_type": "error",
     "traceback": [
      "\u001b[1;31m---------------------------------------------------------------------------\u001b[0m",
      "\u001b[1;31mValueError\u001b[0m                                Traceback (most recent call last)",
      "\u001b[1;32m<ipython-input-5-b140eed7c8d9>\u001b[0m in \u001b[0;36m<module>\u001b[1;34m\u001b[0m\n\u001b[0;32m      1\u001b[0m \u001b[0mnums\u001b[0m \u001b[1;33m=\u001b[0m \u001b[0mlines5\u001b[0m\u001b[1;33m.\u001b[0m\u001b[0mpop\u001b[0m\u001b[1;33m(\u001b[0m\u001b[1;33m)\u001b[0m\u001b[1;33m.\u001b[0m\u001b[0msplit\u001b[0m\u001b[1;33m(\u001b[0m\u001b[1;34m','\u001b[0m\u001b[1;33m)\u001b[0m\u001b[1;33m\u001b[0m\u001b[1;33m\u001b[0m\u001b[0m\n\u001b[1;32m----> 2\u001b[1;33m \u001b[0mnums\u001b[0m \u001b[1;33m=\u001b[0m \u001b[1;33m[\u001b[0m\u001b[0mint\u001b[0m\u001b[1;33m(\u001b[0m\u001b[0mi\u001b[0m\u001b[1;33m)\u001b[0m \u001b[1;32mfor\u001b[0m \u001b[0mi\u001b[0m \u001b[1;32min\u001b[0m \u001b[0mnums\u001b[0m\u001b[1;33m]\u001b[0m\u001b[1;33m\u001b[0m\u001b[1;33m\u001b[0m\u001b[0m\n\u001b[0m\u001b[0;32m      3\u001b[0m \u001b[0mprint\u001b[0m\u001b[1;33m(\u001b[0m\u001b[0mnums\u001b[0m\u001b[1;33m)\u001b[0m\u001b[1;33m\u001b[0m\u001b[1;33m\u001b[0m\u001b[0m\n\u001b[0;32m      4\u001b[0m \u001b[1;33m\u001b[0m\u001b[0m\n\u001b[0;32m      5\u001b[0m \u001b[0mboards\u001b[0m \u001b[1;33m=\u001b[0m \u001b[1;33m[\u001b[0m\u001b[1;33m]\u001b[0m\u001b[1;33m\u001b[0m\u001b[1;33m\u001b[0m\u001b[0m\n",
      "\u001b[1;32m<ipython-input-5-b140eed7c8d9>\u001b[0m in \u001b[0;36m<listcomp>\u001b[1;34m(.0)\u001b[0m\n\u001b[0;32m      1\u001b[0m \u001b[0mnums\u001b[0m \u001b[1;33m=\u001b[0m \u001b[0mlines5\u001b[0m\u001b[1;33m.\u001b[0m\u001b[0mpop\u001b[0m\u001b[1;33m(\u001b[0m\u001b[1;33m)\u001b[0m\u001b[1;33m.\u001b[0m\u001b[0msplit\u001b[0m\u001b[1;33m(\u001b[0m\u001b[1;34m','\u001b[0m\u001b[1;33m)\u001b[0m\u001b[1;33m\u001b[0m\u001b[1;33m\u001b[0m\u001b[0m\n\u001b[1;32m----> 2\u001b[1;33m \u001b[0mnums\u001b[0m \u001b[1;33m=\u001b[0m \u001b[1;33m[\u001b[0m\u001b[0mint\u001b[0m\u001b[1;33m(\u001b[0m\u001b[0mi\u001b[0m\u001b[1;33m)\u001b[0m \u001b[1;32mfor\u001b[0m \u001b[0mi\u001b[0m \u001b[1;32min\u001b[0m \u001b[0mnums\u001b[0m\u001b[1;33m]\u001b[0m\u001b[1;33m\u001b[0m\u001b[1;33m\u001b[0m\u001b[0m\n\u001b[0m\u001b[0;32m      3\u001b[0m \u001b[0mprint\u001b[0m\u001b[1;33m(\u001b[0m\u001b[0mnums\u001b[0m\u001b[1;33m)\u001b[0m\u001b[1;33m\u001b[0m\u001b[1;33m\u001b[0m\u001b[0m\n\u001b[0;32m      4\u001b[0m \u001b[1;33m\u001b[0m\u001b[0m\n\u001b[0;32m      5\u001b[0m \u001b[0mboards\u001b[0m \u001b[1;33m=\u001b[0m \u001b[1;33m[\u001b[0m\u001b[1;33m]\u001b[0m\u001b[1;33m\u001b[0m\u001b[1;33m\u001b[0m\u001b[0m\n",
      "\u001b[1;31mValueError\u001b[0m: invalid literal for int() with base 10: '11 60 66 12 52\\n'"
     ]
    }
   ],
   "source": [
    "nums = lines5.pop().split(',')\n",
    "nums = [int(i) for i in nums]\n",
    "print(nums)\n",
    "\n",
    "boards = []"
   ]
  },
  {
   "cell_type": "code",
   "execution_count": 134,
   "metadata": {},
   "outputs": [],
   "source": [
    "lines5.pop()\n",
    "for line in lines5[2:]:\n",
    "    if len(line)<2:\n",
    "        boards.append(current_board)\n",
    "        current_board = []\n",
    "    else:\n",
    "        line = [int(i) for i in line[:-1].split()]\n",
    "        current_board.extend(line)"
   ]
  },
  {
   "cell_type": "code",
   "execution_count": 135,
   "metadata": {},
   "outputs": [],
   "source": [
    "def mark_board(board, nums):\n",
    "    # input: 25 number array repr bingo board\n",
    "    # output: 25 binary array repr marked board (0=unmarkd, 1=marked)\n",
    "    result = [0 for i in board]\n",
    "    for n in nums:\n",
    "        if n in board:\n",
    "            result[board.index(n)] = 1\n",
    "    return result"
   ]
  },
  {
   "cell_type": "code",
   "execution_count": 149,
   "metadata": {},
   "outputs": [],
   "source": [
    "def is_row_winner(marked_board, i):\n",
    "    result = marked_board[5*i]==1\n",
    "    for j in range(1,5):\n",
    "        result = result and marked_board[5*i+j]==1\n",
    "    return result\n",
    "\n",
    "def is_col_winner(marked_board, j):\n",
    "    result = marked_board[j]==1\n",
    "    for i in range(1,5):\n",
    "        result = result and marked_board[5*i+j]==1\n",
    "    return result \n",
    "\n",
    "def is_winning(board, nums):\n",
    "    # input: 25 number array repr bingo board,\n",
    "    #        nums is list of numbers called so far\n",
    "    # output: True/False if board has won\n",
    "    mark = mark_board(board, nums)\n",
    "    for i in range(5):\n",
    "        if is_row_winner(mark, i):\n",
    "            return True\n",
    "        if is_col_winner(mark, i):\n",
    "            return True\n",
    "    return False\n",
    "\n",
    "def score_board(board,nums):\n",
    "    mark = mark_board(board,nums)\n",
    "    return sum([int(x) for i,x in enumerate(board) if mark[i]==0])\n",
    "\n",
    "def find_number_of_calls_needed(board,num):\n",
    "    calls = []\n",
    "    i = 0\n",
    "    while not is_winning(board,calls) and i<len(num):\n",
    "        i+=1\n",
    "        calls = num[:i]\n",
    "    return i"
   ]
  },
  {
   "cell_type": "code",
   "execution_count": 150,
   "metadata": {},
   "outputs": [
    {
     "name": "stdout",
     "output_type": "stream",
     "text": [
      "4\n",
      "4\n",
      "4\n",
      "4\n",
      "4\n",
      "4\n",
      "4\n",
      "4\n",
      "4\n",
      "4\n",
      "4\n",
      "4\n",
      "4\n",
      "4\n",
      "4\n",
      "4\n",
      "4\n",
      "4\n",
      "4\n",
      "4\n",
      "4\n",
      "4\n",
      "4\n",
      "4\n",
      "4\n",
      "4\n",
      "4\n",
      "4\n",
      "4\n",
      "4\n",
      "4\n",
      "4\n",
      "4\n",
      "4\n",
      "4\n",
      "4\n",
      "4\n",
      "4\n",
      "4\n",
      "4\n",
      "4\n",
      "4\n",
      "4\n",
      "4\n",
      "4\n",
      "4\n",
      "4\n",
      "4\n",
      "4\n",
      "4\n",
      "4\n",
      "4\n",
      "4\n",
      "4\n",
      "4\n",
      "4\n",
      "4\n",
      "4\n",
      "4\n",
      "4\n",
      "4\n",
      "4\n",
      "4\n",
      "4\n",
      "4\n",
      "4\n",
      "4\n",
      "4\n",
      "4\n",
      "4\n",
      "4\n",
      "4\n",
      "4\n",
      "4\n",
      "4\n",
      "4\n",
      "4\n",
      "4\n",
      "4\n",
      "4\n",
      "4\n",
      "4\n",
      "4\n",
      "4\n",
      "4\n",
      "4\n",
      "4\n",
      "4\n",
      "4\n",
      "4\n",
      "4\n",
      "4\n",
      "4\n",
      "4\n",
      "4\n",
      "4\n",
      "4\n",
      "4\n",
      "4\n",
      "6392\n",
      "0\n",
      "1598\n",
      "4\n"
     ]
    }
   ],
   "source": [
    "num_calls = []\n",
    "scores = []\n",
    "for board in boards:\n",
    "    num_calls.append(find_number_of_calls_needed(board,nums))\n",
    "    scores.append(score_board(board,nums[:num_calls[-1]]))\n",
    "first_board = num_calls.index(min(num_calls))\n",
    "score = scores[first_board]\n",
    "winning_value = num_calls[first_board]\n",
    "print(score*winning_value)\n",
    "print(first_board)\n",
    "print(score)\n",
    "print(winning_value)"
   ]
  },
  {
   "cell_type": "code",
   "execution_count": 148,
   "metadata": {},
   "outputs": [
    {
     "data": {
      "text/plain": [
       "4"
      ]
     },
     "execution_count": 148,
     "metadata": {},
     "output_type": "execute_result"
    }
   ],
   "source": [
    "find_number_of_calls_needed(boards[0],nums)"
   ]
  },
  {
   "cell_type": "code",
   "execution_count": null,
   "metadata": {},
   "outputs": [],
   "source": []
  }
 ],
 "metadata": {
  "kernelspec": {
   "display_name": "Python 3",
   "language": "python",
   "name": "python3"
  },
  "language_info": {
   "codemirror_mode": {
    "name": "ipython",
    "version": 3
   },
   "file_extension": ".py",
   "mimetype": "text/x-python",
   "name": "python",
   "nbconvert_exporter": "python",
   "pygments_lexer": "ipython3",
   "version": "3.8.5"
  }
 },
 "nbformat": 4,
 "nbformat_minor": 4
}
